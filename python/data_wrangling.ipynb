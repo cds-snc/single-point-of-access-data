{
 "cells": [
  {
   "cell_type": "code",
   "execution_count": 23,
   "metadata": {},
   "outputs": [],
   "source": [
    "import pandas as pd\n",
    "from io import StringIO"
   ]
  },
  {
   "cell_type": "code",
   "execution_count": 4,
   "metadata": {},
   "outputs": [],
   "source": [
    "fed = pd.read_csv(\"../sample_data/Federal.csv\")\n",
    "ab = pd.read_csv(\"../sample_data/Alberta.csv\")\n",
    "nu = pd.read_csv(\"../sample_data/Nunuvat.csv\")\n",
    "bc = pd.read_csv(\"../sample_data/British_Columbia.csv\")\n",
    "yk = pd.read_csv(\"../sample_data/Yukon.csv\")"
   ]
  },
  {
   "cell_type": "code",
   "execution_count": 20,
   "metadata": {},
   "outputs": [],
   "source": [
    "csv = '''\n",
    "organization,buyer_name,buyer_address,buyer_contact,tender_description,procurement_method,tender_submission_deadline,tender_submission_address,covered_by,eligibility_criteria\n",
    "fed,procurement_entity,,contact,,tendering_procedure,date_closing,,trade_agreement,description\n",
    "'''\n"
   ]
  },
  {
   "cell_type": "code",
   "execution_count": 26,
   "metadata": {},
   "outputs": [],
   "source": [
    "col_df = pd.read_csv(StringIO(csv), index_col=\"organization\")"
   ]
  },
  {
   "cell_type": "code",
   "execution_count": 72,
   "metadata": {},
   "outputs": [],
   "source": [
    "rename_dict = {}\n",
    "for new_name in col_df.columns:\n",
    "    old_name = col_df[new_name][\"fed\"]\n",
    "    if old_name == old_name:\n",
    "        rename_dict[old_name] = new_name"
   ]
  },
  {
   "cell_type": "code",
   "execution_count": 78,
   "metadata": {},
   "outputs": [],
   "source": [
    "sample_data_fed = fed[list(rename_dict.keys())].rename(columns=rename_dict)\n",
    "sample_data = pd.DataFrame(columns=col_dict.keys())\n",
    "sample_data = pd.concat([sample_data, sample_data_fed])"
   ]
  },
  {
   "cell_type": "code",
   "execution_count": null,
   "metadata": {},
   "outputs": [],
   "source": []
  }
 ],
 "metadata": {
  "kernelspec": {
   "display_name": "Python 3",
   "language": "python",
   "name": "python3"
  },
  "language_info": {
   "codemirror_mode": {
    "name": "ipython",
    "version": 3
   },
   "file_extension": ".py",
   "mimetype": "text/x-python",
   "name": "python",
   "nbconvert_exporter": "python",
   "pygments_lexer": "ipython3",
   "version": "3.6.4"
  }
 },
 "nbformat": 4,
 "nbformat_minor": 2
}
