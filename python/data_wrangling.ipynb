{
 "cells": [
  {
   "cell_type": "code",
   "execution_count": 1,
   "metadata": {},
   "outputs": [],
   "source": [
    "import pandas as pd\n",
    "from io import StringIO\n",
    "import dateutil.parser as dp\n",
    "import airtable"
   ]
  },
  {
   "cell_type": "code",
   "execution_count": 2,
   "metadata": {},
   "outputs": [],
   "source": [
    "fed = pd.read_csv(\"../sample_data/Federal.csv\")\n",
    "ab = pd.read_csv(\"../sample_data/Alberta.csv\")\n",
    "nu = pd.read_csv(\"../sample_data/Nunuvat.csv\")\n",
    "bc = pd.read_csv(\"../sample_data/British_Columbia.csv\")\n",
    "yk = pd.read_csv(\"../sample_data/Yukon.csv\")"
   ]
  },
  {
   "cell_type": "code",
   "execution_count": 33,
   "metadata": {},
   "outputs": [],
   "source": [
    "col_df = airtable.get_df()"
   ]
  },
  {
   "cell_type": "code",
   "execution_count": 34,
   "metadata": {},
   "outputs": [],
   "source": [
    "col_df.set_index(\"organization\", inplace=True)"
   ]
  },
  {
   "cell_type": "code",
   "execution_count": 35,
   "metadata": {},
   "outputs": [],
   "source": [
    "del col_df[\"id\"]"
   ]
  },
  {
   "cell_type": "code",
   "execution_count": 36,
   "metadata": {},
   "outputs": [],
   "source": [
    "rename_dict = {}\n",
    "for new_name in col_df.columns:\n",
    "    old_name = col_df[new_name][\"federal\"]\n",
    "    if old_name == old_name:\n",
    "        rename_dict[old_name] = new_name"
   ]
  },
  {
   "cell_type": "code",
   "execution_count": 38,
   "metadata": {},
   "outputs": [],
   "source": [
    "# from https://stackoverflow.com/a/4766400\n",
    "\n",
    "tz_str = '''-12 Y\n",
    "-11 X NUT SST\n",
    "-10 W CKT HAST HST TAHT TKT\n",
    "-9 V AKST GAMT GIT HADT HNY\n",
    "-8 U AKDT CIST HAY HNP PST PT\n",
    "-7 T HAP HNR MST PDT\n",
    "-6 S CST EAST GALT HAR HNC MDT\n",
    "-5 R CDT COT EASST ECT EST ET HAC HNE PET\n",
    "-4 Q AST BOT CLT COST EDT FKT GYT HAE HNA PYT\n",
    "-3 P ADT ART BRT CLST FKST GFT HAA PMST PYST SRT UYT WGT\n",
    "-2 O BRST FNT PMDT UYST WGST\n",
    "-1 N AZOT CVT EGT\n",
    "0 Z EGST GMT UTC WET WT\n",
    "1 A CET DFT WAT WEDT WEST\n",
    "2 B CAT CEDT CEST EET SAST WAST\n",
    "3 C EAT EEDT EEST IDT MSK\n",
    "4 D AMT AZT GET GST KUYT MSD MUT RET SAMT SCT\n",
    "5 E AMST AQTT AZST HMT MAWT MVT PKT TFT TJT TMT UZT YEKT\n",
    "6 F ALMT BIOT BTT IOT KGT NOVT OMST YEKST\n",
    "7 G CXT DAVT HOVT ICT KRAT NOVST OMSST THA WIB\n",
    "8 H ACT AWST BDT BNT CAST HKT IRKT KRAST MYT PHT SGT ULAT WITA WST\n",
    "9 I AWDT IRKST JST KST PWT TLT WDT WIT YAKT\n",
    "10 K AEST ChST PGT VLAT YAKST YAPT\n",
    "11 L AEDT LHDT MAGT NCT PONT SBT VLAST VUT\n",
    "12 M ANAST ANAT FJT GILT MAGST MHT NZST PETST PETT TVT WFT\n",
    "13 FJST NZDT\n",
    "11.5 NFT\n",
    "10.5 ACDT LHST\n",
    "9.5 ACST\n",
    "6.5 CCT MMT\n",
    "5.75 NPT\n",
    "5.5 SLT\n",
    "4.5 AFT IRDT\n",
    "3.5 IRST\n",
    "-2.5 HAT NDT\n",
    "-3.5 HNT NST NT\n",
    "-4.5 HLV VET\n",
    "-9.5 MART MIT'''\n",
    "\n",
    "tzd = {}\n",
    "for tz_descr in map(str.split, tz_str.split('\\n')):\n",
    "    tz_offset = int(float(tz_descr[0]) * 3600)\n",
    "    for tz_code in tz_descr[1:]:\n",
    "        tzd[tz_code] = tz_offset"
   ]
  },
  {
   "cell_type": "code",
   "execution_count": 39,
   "metadata": {},
   "outputs": [],
   "source": [
    "def parse_fed_time(x):\n",
    "    y = x.split(\" \")\n",
    "    clean_str = y[0] + \" \" + y[1] + \" \" + y[-1][1:-1]\n",
    "    return dp.parse(clean_str, tzinfos=tzd)"
   ]
  },
  {
   "cell_type": "code",
   "execution_count": 40,
   "metadata": {},
   "outputs": [],
   "source": [
    "sample_data_fed = fed.query(\"language == 'English'\")[list(rename_dict.keys())].rename(columns=rename_dict)"
   ]
  },
  {
   "cell_type": "code",
   "execution_count": 41,
   "metadata": {},
   "outputs": [],
   "source": [
    "sample_data_fed[\"closing_date\"] = sample_data_fed[\"closing_date\"].map(parse_fed_time)"
   ]
  },
  {
   "cell_type": "code",
   "execution_count": 42,
   "metadata": {},
   "outputs": [],
   "source": [
    "sample_data = pd.DataFrame(columns=col_df.keys())\n",
    "sample_data = pd.concat([sample_data, sample_data_fed], sort=True)\n",
    "sample_data.index = range(len(sample_data))"
   ]
  },
  {
   "cell_type": "code",
   "execution_count": 43,
   "metadata": {},
   "outputs": [
    {
     "data": {
      "text/html": [
       "<div>\n",
       "<style scoped>\n",
       "    .dataframe tbody tr th:only-of-type {\n",
       "        vertical-align: middle;\n",
       "    }\n",
       "\n",
       "    .dataframe tbody tr th {\n",
       "        vertical-align: top;\n",
       "    }\n",
       "\n",
       "    .dataframe thead th {\n",
       "        text-align: right;\n",
       "    }\n",
       "</style>\n",
       "<table border=\"1\" class=\"dataframe\">\n",
       "  <thead>\n",
       "    <tr style=\"text-align: right;\">\n",
       "      <th></th>\n",
       "      <th>GSIN_code</th>\n",
       "      <th>URL</th>\n",
       "      <th>buyer_contact</th>\n",
       "      <th>buyer_name</th>\n",
       "      <th>closing_date</th>\n",
       "      <th>location_of_work</th>\n",
       "      <th>province_territory_of_work</th>\n",
       "      <th>published_date</th>\n",
       "      <th>tender_description</th>\n",
       "      <th>title</th>\n",
       "    </tr>\n",
       "  </thead>\n",
       "  <tbody>\n",
       "    <tr>\n",
       "      <th>0</th>\n",
       "      <td>JX1990A - Ships and Vessels (large) - Repair, ...</td>\n",
       "      <td>NaN</td>\n",
       "      <td>DeBlois, Vincent, vincent.deblois@tpsgc-pwgsc....</td>\n",
       "      <td>Fisheries and Oceans Canada</td>\n",
       "      <td>2019-09-12 14:00:00-04:00</td>\n",
       "      <td>NaN</td>\n",
       "      <td>Quebec</td>\n",
       "      <td>2019-08-16</td>\n",
       "      <td>Trade Agreement: Canadian Free Trade Agreement...</td>\n",
       "      <td>CCGS Amundsen -Dry Dock and refit-Fall 2019 (F...</td>\n",
       "    </tr>\n",
       "    <tr>\n",
       "      <th>1</th>\n",
       "      <td>E111A - Oil Spill Collection, JX1990H - Ships ...</td>\n",
       "      <td>NaN</td>\n",
       "      <td>Richards, Shazia, shazia.khan@tpsgc-pwgsc.gc.c...</td>\n",
       "      <td>Fisheries and Oceans Canada</td>\n",
       "      <td>2019-09-12 14:00:00-04:00</td>\n",
       "      <td>NaN</td>\n",
       "      <td>British Columbia, Newfoundland and Labrador, N...</td>\n",
       "      <td>2019-06-21</td>\n",
       "      <td>Trade Agreement: NAFTA / CFTA / FTAs with Peru...</td>\n",
       "      <td>EREP: Self-Propelled Advancing Skimmer (F7047-...</td>\n",
       "    </tr>\n",
       "    <tr>\n",
       "      <th>2</th>\n",
       "      <td>T004KA - Social Media Monitoring</td>\n",
       "      <td>NaN</td>\n",
       "      <td>Westall, Susan, susan.westall@tpsgc-pwgsc.gc.c...</td>\n",
       "      <td>Public Works and Government Services Canada</td>\n",
       "      <td>2020-01-31 14:00:00-05:00</td>\n",
       "      <td>NaN</td>\n",
       "      <td>Alberta, British Columbia, Manitoba, National ...</td>\n",
       "      <td>2014-01-20</td>\n",
       "      <td>Trade Agreement: Canadian Free Trade Agreement...</td>\n",
       "      <td>Social Media Monitoring (EN578-141760/B)</td>\n",
       "    </tr>\n",
       "    <tr>\n",
       "      <th>3</th>\n",
       "      <td>N7030 - ADP Software</td>\n",
       "      <td>NaN</td>\n",
       "      <td>Niyonambaza (SMS div), Audace, audace.niyonamb...</td>\n",
       "      <td>Public Works and Government Services Canada</td>\n",
       "      <td>2023-10-02 14:00:00-04:00</td>\n",
       "      <td>NaN</td>\n",
       "      <td>National Capital Region</td>\n",
       "      <td>2013-07-03</td>\n",
       "      <td>Trade Agreement: NONE Tendering Procedures: Al...</td>\n",
       "      <td>Software Licensing Supply Arrangement (EN578-1...</td>\n",
       "    </tr>\n",
       "    <tr>\n",
       "      <th>4</th>\n",
       "      <td>T002AA - Fabrication of Exhibits, T002AB - Cus...</td>\n",
       "      <td>NaN</td>\n",
       "      <td>Kalp, Lynn, 613-938-5803, 866-246-6893, 111 Wa...</td>\n",
       "      <td>Parks Canada</td>\n",
       "      <td>2019-10-01 14:00:00-04:00</td>\n",
       "      <td>NaN</td>\n",
       "      <td>Canada</td>\n",
       "      <td>2014-02-19</td>\n",
       "      <td>Request for Supply Arrangement, Parks Canada A...</td>\n",
       "      <td>RFSA -Exhibit Design - Parks Canada - National...</td>\n",
       "    </tr>\n",
       "  </tbody>\n",
       "</table>\n",
       "</div>"
      ],
      "text/plain": [
       "                                           GSIN_code  URL  \\\n",
       "0  JX1990A - Ships and Vessels (large) - Repair, ...  NaN   \n",
       "1  E111A - Oil Spill Collection, JX1990H - Ships ...  NaN   \n",
       "2                   T004KA - Social Media Monitoring  NaN   \n",
       "3                               N7030 - ADP Software  NaN   \n",
       "4  T002AA - Fabrication of Exhibits, T002AB - Cus...  NaN   \n",
       "\n",
       "                                       buyer_contact  \\\n",
       "0  DeBlois, Vincent, vincent.deblois@tpsgc-pwgsc....   \n",
       "1  Richards, Shazia, shazia.khan@tpsgc-pwgsc.gc.c...   \n",
       "2  Westall, Susan, susan.westall@tpsgc-pwgsc.gc.c...   \n",
       "3  Niyonambaza (SMS div), Audace, audace.niyonamb...   \n",
       "4  Kalp, Lynn, 613-938-5803, 866-246-6893, 111 Wa...   \n",
       "\n",
       "                                    buyer_name               closing_date  \\\n",
       "0                  Fisheries and Oceans Canada  2019-09-12 14:00:00-04:00   \n",
       "1                  Fisheries and Oceans Canada  2019-09-12 14:00:00-04:00   \n",
       "2  Public Works and Government Services Canada  2020-01-31 14:00:00-05:00   \n",
       "3  Public Works and Government Services Canada  2023-10-02 14:00:00-04:00   \n",
       "4                                 Parks Canada  2019-10-01 14:00:00-04:00   \n",
       "\n",
       "  location_of_work                         province_territory_of_work  \\\n",
       "0              NaN                                             Quebec   \n",
       "1              NaN  British Columbia, Newfoundland and Labrador, N...   \n",
       "2              NaN  Alberta, British Columbia, Manitoba, National ...   \n",
       "3              NaN                            National Capital Region   \n",
       "4              NaN                                             Canada   \n",
       "\n",
       "  published_date                                 tender_description  \\\n",
       "0     2019-08-16  Trade Agreement: Canadian Free Trade Agreement...   \n",
       "1     2019-06-21  Trade Agreement: NAFTA / CFTA / FTAs with Peru...   \n",
       "2     2014-01-20  Trade Agreement: Canadian Free Trade Agreement...   \n",
       "3     2013-07-03  Trade Agreement: NONE Tendering Procedures: Al...   \n",
       "4     2014-02-19  Request for Supply Arrangement, Parks Canada A...   \n",
       "\n",
       "                                               title  \n",
       "0  CCGS Amundsen -Dry Dock and refit-Fall 2019 (F...  \n",
       "1  EREP: Self-Propelled Advancing Skimmer (F7047-...  \n",
       "2           Social Media Monitoring (EN578-141760/B)  \n",
       "3  Software Licensing Supply Arrangement (EN578-1...  \n",
       "4  RFSA -Exhibit Design - Parks Canada - National...  "
      ]
     },
     "execution_count": 43,
     "metadata": {},
     "output_type": "execute_result"
    }
   ],
   "source": [
    "sample_data.head()"
   ]
  },
  {
   "cell_type": "code",
   "execution_count": 45,
   "metadata": {},
   "outputs": [],
   "source": [
    "sample_data.to_json(\"../sample_data/sample_data.json\", orient=\"records\")"
   ]
  },
  {
   "cell_type": "code",
   "execution_count": null,
   "metadata": {},
   "outputs": [],
   "source": []
  }
 ],
 "metadata": {
  "kernelspec": {
   "display_name": "Python 3",
   "language": "python",
   "name": "python3"
  },
  "language_info": {
   "codemirror_mode": {
    "name": "ipython",
    "version": 3
   },
   "file_extension": ".py",
   "mimetype": "text/x-python",
   "name": "python",
   "nbconvert_exporter": "python",
   "pygments_lexer": "ipython3",
   "version": "3.6.4"
  }
 },
 "nbformat": 4,
 "nbformat_minor": 2
}
