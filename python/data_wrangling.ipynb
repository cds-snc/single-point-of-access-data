{
 "cells": [
  {
   "cell_type": "code",
   "execution_count": 104,
   "metadata": {},
   "outputs": [],
   "source": [
    "import pandas as pd\n",
    "from io import StringIO\n",
    "import dateutil.parser as dp\n",
    "import airtable\n",
    "import json"
   ]
  },
  {
   "cell_type": "code",
   "execution_count": 105,
   "metadata": {},
   "outputs": [],
   "source": [
    "# yk = pd.read_csv(\"../sample_data/Yukon.csv\")"
   ]
  },
  {
   "cell_type": "code",
   "execution_count": 106,
   "metadata": {},
   "outputs": [],
   "source": [
    "col_df = airtable.get_df()"
   ]
  },
  {
   "cell_type": "code",
   "execution_count": 107,
   "metadata": {},
   "outputs": [],
   "source": [
    "col_df.set_index(\"organization\", inplace=True)"
   ]
  },
  {
   "cell_type": "code",
   "execution_count": 108,
   "metadata": {},
   "outputs": [],
   "source": [
    "del col_df[\"id\"]"
   ]
  },
  {
   "cell_type": "markdown",
   "metadata": {},
   "source": [
    "## Federal"
   ]
  },
  {
   "cell_type": "code",
   "execution_count": 109,
   "metadata": {},
   "outputs": [],
   "source": [
    "fed = pd.read_csv(\"../sample_data/Federal.csv\")"
   ]
  },
  {
   "cell_type": "code",
   "execution_count": 110,
   "metadata": {},
   "outputs": [],
   "source": [
    "# from https://stackoverflow.com/a/4766400\n",
    "\n",
    "tz_str = '''-12 Y\n",
    "-11 X NUT SST\n",
    "-10 W CKT HAST HST TAHT TKT\n",
    "-9 V AKST GAMT GIT HADT HNY\n",
    "-8 U AKDT CIST HAY HNP PST PT\n",
    "-7 T HAP HNR MST PDT\n",
    "-6 S CST EAST GALT HAR HNC MDT\n",
    "-5 R CDT COT EASST ECT EST ET HAC HNE PET\n",
    "-4 Q AST BOT CLT COST EDT FKT GYT HAE HNA PYT\n",
    "-3 P ADT ART BRT CLST FKST GFT HAA PMST PYST SRT UYT WGT\n",
    "-2 O BRST FNT PMDT UYST WGST\n",
    "-1 N AZOT CVT EGT\n",
    "0 Z EGST GMT UTC WET WT\n",
    "1 A CET DFT WAT WEDT WEST\n",
    "2 B CAT CEDT CEST EET SAST WAST\n",
    "3 C EAT EEDT EEST IDT MSK\n",
    "4 D AMT AZT GET GST KUYT MSD MUT RET SAMT SCT\n",
    "5 E AMST AQTT AZST HMT MAWT MVT PKT TFT TJT TMT UZT YEKT\n",
    "6 F ALMT BIOT BTT IOT KGT NOVT OMST YEKST\n",
    "7 G CXT DAVT HOVT ICT KRAT NOVST OMSST THA WIB\n",
    "8 H ACT AWST BDT BNT CAST HKT IRKT KRAST MYT PHT SGT ULAT WITA WST\n",
    "9 I AWDT IRKST JST KST PWT TLT WDT WIT YAKT\n",
    "10 K AEST ChST PGT VLAT YAKST YAPT\n",
    "11 L AEDT LHDT MAGT NCT PONT SBT VLAST VUT\n",
    "12 M ANAST ANAT FJT GILT MAGST MHT NZST PETST PETT TVT WFT\n",
    "13 FJST NZDT\n",
    "11.5 NFT\n",
    "10.5 ACDT LHST\n",
    "9.5 ACST\n",
    "6.5 CCT MMT\n",
    "5.75 NPT\n",
    "5.5 SLT\n",
    "4.5 AFT IRDT\n",
    "3.5 IRST\n",
    "-2.5 HAT NDT\n",
    "-3.5 HNT NST NT\n",
    "-4.5 HLV VET\n",
    "-9.5 MART MIT'''\n",
    "\n",
    "tzd = {}\n",
    "for tz_descr in map(str.split, tz_str.split('\\n')):\n",
    "    tz_offset = int(float(tz_descr[0]) * 3600)\n",
    "    for tz_code in tz_descr[1:]:\n",
    "        tzd[tz_code] = tz_offset"
   ]
  },
  {
   "cell_type": "code",
   "execution_count": 111,
   "metadata": {},
   "outputs": [],
   "source": [
    "def parse_fed_time(x):\n",
    "    y = x.split(\" \")\n",
    "    clean_str = y[0] + \" \" + y[1] + \" \" + y[-1][1:-1]\n",
    "    return dp.parse(clean_str, tzinfos=tzd)"
   ]
  },
  {
   "cell_type": "code",
   "execution_count": 112,
   "metadata": {},
   "outputs": [],
   "source": [
    "sample_data_fed = pd.DataFrame(columns=col_df.columns)\n",
    "for col in col_df.columns:\n",
    "    fed_col = col_df[col][\"federal\"]\n",
    "    if fed_col == fed_col:\n",
    "        sample_data_fed[col] = fed.query(\"language == 'English'\")[fed_col].copy()        "
   ]
  },
  {
   "cell_type": "code",
   "execution_count": 113,
   "metadata": {},
   "outputs": [],
   "source": [
    "sample_data_fed[\"closing_date\"] = sample_data_fed[\"closing_date\"].map(parse_fed_time)\n",
    "sample_data_fed[\"closing_date\"] = sample_data_fed[\"closing_date\"].map(lambda x: str(x))"
   ]
  },
  {
   "cell_type": "code",
   "execution_count": 114,
   "metadata": {},
   "outputs": [],
   "source": [
    "# I need to parse province_territory_of_work into a list of 2 letter codes\n",
    "# ref: https://www12.statcan.gc.ca/census-recensement/2011/ref/dict/table-tableau/table-tableau-8-eng.cfm\n",
    "prov_terr_dict = {\n",
    "    \"Newfoundland and Labrador\": \"NL\",\n",
    "    \"Prince Edward Island\": \"PE\",\n",
    "    \"Nova Scotia\": \"NS\",\n",
    "    \"New Brunswick\": \"NB\",\n",
    "    \"Quebec\": \"QC\",\n",
    "    \"Ontario\": \"ON\",\n",
    "    \"Manitoba\": \"MB\",\n",
    "    \"Saskatchewan\": \"SK\",\n",
    "    \"Alberta\": \"AB\",\n",
    "    \"British Columbia\": \"BC\",\n",
    "    \"Yukon\": \"YK\",\n",
    "    \"Northwest Territories\": \"NT\",\n",
    "    \"Nunavut\": \"NU\",\n",
    "    \"National Capital Region\": \"ON, QC\",\n",
    "    \"Canada\": \"NL, PE, NS, NB, QC, ON, MB, SK, AB, BC, YK, NT, NU\",\n",
    "    # will have to think about the locations below and how they will be represented in filtering\n",
    "    \"Aboriginal Lands\": \"\",\n",
    "    \"Foreign\": \"\",\n",
    "    \"United States\": \"\",\n",
    "    \"World\": \"\",\n",
    "    \"Europe\": \"\",\n",
    "    \"Mexico\": \"\",\n",
    "    \"Unspecified\": \"\"\n",
    "}\n",
    "\n",
    "def replace_with_acronyms(x):\n",
    "    for k in prov_terr_dict:\n",
    "        x = x.replace(k, prov_terr_dict[k])\n",
    "    return [y.strip() for y in x.split(\",\") if y]\n"
   ]
  },
  {
   "cell_type": "code",
   "execution_count": 115,
   "metadata": {},
   "outputs": [],
   "source": [
    "sample_data_fed[\"province_territory_of_work\"] = sample_data_fed[\"province_territory_of_work\"].map(replace_with_acronyms)"
   ]
  },
  {
   "cell_type": "code",
   "execution_count": 116,
   "metadata": {},
   "outputs": [],
   "source": [
    "def is_capital(letter):\n",
    "    return letter.lower() != letter\n",
    "\n",
    "def get_gsins(field):\n",
    "    gsins = []\n",
    "    for x in field.split(\",\"):\n",
    "        parts = x.strip().split(\" - \")\n",
    "        if len(parts) < 2:\n",
    "            continue\n",
    "        maybe_code = parts[0]\n",
    "        if len(maybe_code) < 3:\n",
    "            continue\n",
    "        # 2nd char of code must be a capital letter or number, 3rd char a digit\n",
    "        char_1 = maybe_code[1]\n",
    "        char_2 = maybe_code[2]\n",
    "        if is_capital(char_1) or char_1.isdigit():\n",
    "            gsins.append(parts[0])\n",
    "    return gsins"
   ]
  },
  {
   "cell_type": "code",
   "execution_count": 68,
   "metadata": {},
   "outputs": [],
   "source": [
    "sample_data_fed[\"GSIN_code\"] = sample_data_fed[\"GSIN_code\"].map(get_gsins)"
   ]
  },
  {
   "cell_type": "code",
   "execution_count": 118,
   "metadata": {},
   "outputs": [
    {
     "data": {
      "text/plain": [
       "0       https://buyandsell.gc.ca/procurement-data/tend...\n",
       "2       https://buyandsell.gc.ca/procurement-data/tend...\n",
       "4       https://buyandsell.gc.ca/procurement-data/tend...\n",
       "6       https://buyandsell.gc.ca/procurement-data/tend...\n",
       "8       https://buyandsell.gc.ca/procurement-data/tend...\n",
       "                              ...                        \n",
       "1512    https://buyandsell.gc.ca/procurement-data/tend...\n",
       "1514    https://buyandsell.gc.ca/procurement-data/tend...\n",
       "1516    https://buyandsell.gc.ca/procurement-data/tend...\n",
       "1518    https://buyandsell.gc.ca/procurement-data/tend...\n",
       "1520    https://buyandsell.gc.ca/procurement-data/tend...\n",
       "Name: URL, Length: 761, dtype: object"
      ]
     },
     "execution_count": 118,
     "metadata": {},
     "output_type": "execute_result"
    }
   ],
   "source": [
    "fed_url = \"https://buyandsell.gc.ca/procurement-data/tender-notice/\"\n",
    "sample_data_fed[\"URL\"].map(lambda x: fed_url + x.replace(\"$\", \"\") )"
   ]
  },
  {
   "cell_type": "markdown",
   "metadata": {},
   "source": [
    "## BC"
   ]
  },
  {
   "cell_type": "code",
   "execution_count": null,
   "metadata": {},
   "outputs": [],
   "source": [
    "bc = pd.read_csv(\"../sample_data/British_Columbia.csv\")"
   ]
  },
  {
   "cell_type": "code",
   "execution_count": 70,
   "metadata": {},
   "outputs": [],
   "source": [
    "sample_data_bc = pd.DataFrame(columns=col_df.columns)\n",
    "for col in col_df.columns:\n",
    "    bc_col = col_df[col][\"bc\"]\n",
    "    if pd.isna(bc_col):\n",
    "        continue\n",
    "    bc_col = bc_col.strip()\n",
    "    if \",\" in bc_col:\n",
    "        # we need to map more than 1 column, so skip for now\n",
    "        continue\n",
    "    sample_data_bc[col] = bc[bc_col].copy()        "
   ]
  },
  {
   "cell_type": "code",
   "execution_count": 71,
   "metadata": {},
   "outputs": [],
   "source": [
    "sample_data_bc[\"province_territory_of_work\"] = sample_data_bc[\"province_territory_of_work\"].map(lambda x: [x])"
   ]
  },
  {
   "cell_type": "code",
   "execution_count": 72,
   "metadata": {},
   "outputs": [],
   "source": [
    "sample_data_bc[\"buyer_name\"] = sample_data_bc[\"buyer_name\"].map(lambda x: x.split(\"\\n\")[2])"
   ]
  },
  {
   "cell_type": "code",
   "execution_count": 73,
   "metadata": {},
   "outputs": [],
   "source": [
    "sample_data_bc[\"published_date\"] = sample_data_bc[\"published_date\"].map(lambda x: str(pd.to_datetime(str(x)).date()))\n",
    "bc[\"CLOSING_DATETIME\"] = bc[\"CLOSING_DATE\"].map(str) + \" \" + bc[\"CLOSING_TIME\"].map(lambda x: x.split(\" \")[0]) + \" \" + bc[\"CLOSING_TIME\"].map(lambda x: x.split(\" \")[1]).map({\"Local\": \"PST\", \"Pacific\": \"PST\", \"Mountain\": \"MST\"})\n",
    "sample_data_bc[\"closing_date\"] = bc[\"CLOSING_DATETIME\"].map(lambda x: str(dp.parse(x, tzinfos=tzd)))"
   ]
  },
  {
   "cell_type": "code",
   "execution_count": 74,
   "metadata": {},
   "outputs": [],
   "source": [
    "sample_data_bc[\"GSIN_code\"] = sample_data_bc[\"GSIN_code\"].map(lambda x: str(x).split(\" \"))"
   ]
  },
  {
   "cell_type": "code",
   "execution_count": 75,
   "metadata": {},
   "outputs": [],
   "source": []
  },
  {
   "cell_type": "markdown",
   "metadata": {},
   "source": [
    "## Nunavut"
   ]
  },
  {
   "cell_type": "code",
   "execution_count": null,
   "metadata": {},
   "outputs": [],
   "source": [
    "nu = pd.read_csv(\"../sample_data/Nunuvat.csv\")"
   ]
  },
  {
   "cell_type": "code",
   "execution_count": 77,
   "metadata": {},
   "outputs": [],
   "source": [
    "sample_data_nu = pd.DataFrame(columns=col_df.columns)\n",
    "for col in col_df.columns:\n",
    "    if pd.isna(col_df[col][\"nu\"]):\n",
    "        continue\n",
    "    nu_col = col_df[col][\"nu\"].strip()\n",
    "    if \",\" in nu_col:\n",
    "        # we need to map more than 1 column, so skip for now\n",
    "        continue\n",
    "    if nu_col == nu_col:\n",
    "        sample_data_nu[col] = nu[nu_col].copy()        "
   ]
  },
  {
   "cell_type": "code",
   "execution_count": 78,
   "metadata": {},
   "outputs": [],
   "source": [
    "def get_nu_location(_location):\n",
    "    location_dict = {\"Nunavut\": \"NU\"}\n",
    "    parts = _location.split(\",\")\n",
    "    if len(parts) == 1:\n",
    "        return location_dict[parts[0]]\n",
    "    \n",
    "    return parts[-1].strip()"
   ]
  },
  {
   "cell_type": "code",
   "execution_count": 79,
   "metadata": {},
   "outputs": [],
   "source": [
    "sample_data_nu[\"province_territory_of_work\"] = sample_data_nu[\"province_territory_of_work\"].map(get_nu_location)"
   ]
  },
  {
   "cell_type": "code",
   "execution_count": 80,
   "metadata": {},
   "outputs": [],
   "source": [
    "abc1 = sample_data_nu.closing_date[0]\n",
    "abc2 = sample_data_nu.closing_date[2]"
   ]
  },
  {
   "cell_type": "code",
   "execution_count": 81,
   "metadata": {},
   "outputs": [],
   "source": [
    "sample_data_nu[\"closing_date\"] = sample_data_nu[\"closing_date\"].map(lambda x: x if \"EDT\" in x else x + \" 16:00 EDT\").map(lambda x: str(dp.parse(x, tzinfos=tzd)))"
   ]
  },
  {
   "cell_type": "markdown",
   "metadata": {},
   "source": [
    "## Alberta"
   ]
  },
  {
   "cell_type": "code",
   "execution_count": null,
   "metadata": {},
   "outputs": [],
   "source": [
    "ab = pd.read_csv(\"../sample_data/Alberta.csv\")"
   ]
  },
  {
   "cell_type": "markdown",
   "metadata": {},
   "source": [
    "## Assemble sample data"
   ]
  },
  {
   "cell_type": "code",
   "execution_count": 91,
   "metadata": {},
   "outputs": [],
   "source": [
    "sample_data = pd.DataFrame(columns=col_df.keys())"
   ]
  },
  {
   "cell_type": "code",
   "execution_count": 92,
   "metadata": {},
   "outputs": [],
   "source": [
    "sample_data = pd.concat([sample_data, sample_data_fed], sort=False)\n",
    "sample_data = pd.concat([sample_data, sample_data_bc], sort=False)"
   ]
  },
  {
   "cell_type": "code",
   "execution_count": 93,
   "metadata": {},
   "outputs": [],
   "source": [
    "sample_data.index = range(len(sample_data))"
   ]
  },
  {
   "cell_type": "code",
   "execution_count": 94,
   "metadata": {},
   "outputs": [],
   "source": [
    "sample_data[\"id\"] = range(len(sample_data))"
   ]
  },
  {
   "cell_type": "code",
   "execution_count": null,
   "metadata": {},
   "outputs": [],
   "source": []
  },
  {
   "cell_type": "markdown",
   "metadata": {},
   "source": [
    "## Save sample data"
   ]
  },
  {
   "cell_type": "code",
   "execution_count": null,
   "metadata": {},
   "outputs": [],
   "source": []
  },
  {
   "cell_type": "code",
   "execution_count": 87,
   "metadata": {},
   "outputs": [],
   "source": [
    "sample_data.to_json(\"../sample_data/sample_data.json\", orient=\"records\")"
   ]
  },
  {
   "cell_type": "code",
   "execution_count": 88,
   "metadata": {},
   "outputs": [],
   "source": [
    "sample_data.to_json(\"../../single-point-of-access-prototype/data/sample_data.json\", orient=\"records\")"
   ]
  },
  {
   "cell_type": "code",
   "execution_count": 90,
   "metadata": {},
   "outputs": [
    {
     "data": {
      "text/html": [
       "<div>\n",
       "<style scoped>\n",
       "    .dataframe tbody tr th:only-of-type {\n",
       "        vertical-align: middle;\n",
       "    }\n",
       "\n",
       "    .dataframe tbody tr th {\n",
       "        vertical-align: top;\n",
       "    }\n",
       "\n",
       "    .dataframe thead th {\n",
       "        text-align: right;\n",
       "    }\n",
       "</style>\n",
       "<table border=\"1\" class=\"dataframe\">\n",
       "  <thead>\n",
       "    <tr style=\"text-align: right;\">\n",
       "      <th></th>\n",
       "      <th>GSIN_code</th>\n",
       "      <th>URL</th>\n",
       "      <th>buyer_contact</th>\n",
       "      <th>buyer_name</th>\n",
       "      <th>closing_date</th>\n",
       "      <th>location_of_work</th>\n",
       "      <th>procurement_rules</th>\n",
       "      <th>province_territory_of_work</th>\n",
       "      <th>published_date</th>\n",
       "      <th>selection_criteria</th>\n",
       "      <th>tender_description</th>\n",
       "      <th>title</th>\n",
       "      <th>trade_agreement</th>\n",
       "      <th>id</th>\n",
       "    </tr>\n",
       "  </thead>\n",
       "  <tbody>\n",
       "    <tr>\n",
       "      <th>0</th>\n",
       "      <td>[JX1990A]</td>\n",
       "      <td>NaN</td>\n",
       "      <td>DeBlois, Vincent, vincent.deblois@tpsgc-pwgsc....</td>\n",
       "      <td>Fisheries and Oceans Canada</td>\n",
       "      <td>2019-09-12 14:00:00-04:00</td>\n",
       "      <td>Quebec</td>\n",
       "      <td>All interested suppliers may submit a bid</td>\n",
       "      <td>[QC]</td>\n",
       "      <td>2019-08-16</td>\n",
       "      <td>Lowest/Lower Bid</td>\n",
       "      <td>Trade Agreement: Canadian Free Trade Agreement...</td>\n",
       "      <td>CCGS Amundsen -Dry Dock and refit-Fall 2019 (F...</td>\n",
       "      <td>Canadian Free Trade Agreement (CFTA)</td>\n",
       "      <td>0</td>\n",
       "    </tr>\n",
       "    <tr>\n",
       "      <th>1</th>\n",
       "      <td>[E111A, JX1990H, N4235, N5430D]</td>\n",
       "      <td>NaN</td>\n",
       "      <td>Richards, Shazia, shazia.khan@tpsgc-pwgsc.gc.c...</td>\n",
       "      <td>Fisheries and Oceans Canada</td>\n",
       "      <td>2019-09-12 14:00:00-04:00</td>\n",
       "      <td>British Columbia, Newfoundland and Labrador, N...</td>\n",
       "      <td>All interested suppliers may submit a bid</td>\n",
       "      <td>[BC, NL, NS, ON, QC]</td>\n",
       "      <td>2019-06-21</td>\n",
       "      <td>Lowest/Lower Bid</td>\n",
       "      <td>Trade Agreement: NAFTA / CFTA / FTAs with Peru...</td>\n",
       "      <td>EREP: Self-Propelled Advancing Skimmer (F7047-...</td>\n",
       "      <td>Canada-Panama Free Trade Agreement, Canada-Kor...</td>\n",
       "      <td>1</td>\n",
       "    </tr>\n",
       "    <tr>\n",
       "      <th>2</th>\n",
       "      <td>[T004KA]</td>\n",
       "      <td>NaN</td>\n",
       "      <td>Westall, Susan, susan.westall@tpsgc-pwgsc.gc.c...</td>\n",
       "      <td>Public Works and Government Services Canada</td>\n",
       "      <td>2020-01-31 14:00:00-05:00</td>\n",
       "      <td>Alberta, British Columbia, Manitoba, National ...</td>\n",
       "      <td>The bidder must supply Canadian goods and/or s...</td>\n",
       "      <td>[AB, BC, MB, ON, QC, NB, NL, NT, NS, NU, ON, P...</td>\n",
       "      <td>2014-01-20</td>\n",
       "      <td>Subsequent/Follow-on Contracts</td>\n",
       "      <td>Trade Agreement: Canadian Free Trade Agreement...</td>\n",
       "      <td>Social Media Monitoring (EN578-141760/B)</td>\n",
       "      <td>Canadian Free Trade Agreement (CFTA)</td>\n",
       "      <td>2</td>\n",
       "    </tr>\n",
       "    <tr>\n",
       "      <th>3</th>\n",
       "      <td>[N7030]</td>\n",
       "      <td>NaN</td>\n",
       "      <td>Niyonambaza (SMS div), Audace, audace.niyonamb...</td>\n",
       "      <td>Public Works and Government Services Canada</td>\n",
       "      <td>2023-10-02 14:00:00-04:00</td>\n",
       "      <td>National Capital Region</td>\n",
       "      <td>All interested suppliers may submit a bid</td>\n",
       "      <td>[ON, QC]</td>\n",
       "      <td>2013-07-03</td>\n",
       "      <td>Subsequent/Follow-on Contracts</td>\n",
       "      <td>Trade Agreement: NONE Tendering Procedures: Al...</td>\n",
       "      <td>Software Licensing Supply Arrangement (EN578-1...</td>\n",
       "      <td>None, None</td>\n",
       "      <td>3</td>\n",
       "    </tr>\n",
       "    <tr>\n",
       "      <th>4</th>\n",
       "      <td>[T002AA, T002AB, T002AJ]</td>\n",
       "      <td>NaN</td>\n",
       "      <td>Kalp, Lynn, 613-938-5803, 866-246-6893, 111 Wa...</td>\n",
       "      <td>Parks Canada</td>\n",
       "      <td>2019-10-01 14:00:00-04:00</td>\n",
       "      <td>Canada</td>\n",
       "      <td>Open</td>\n",
       "      <td>[NL, PE, NS, NB, QC, ON, MB, SK, AB, BC, YK, N...</td>\n",
       "      <td>2014-02-19</td>\n",
       "      <td>NaN</td>\n",
       "      <td>Request for Supply Arrangement, Parks Canada A...</td>\n",
       "      <td>RFSA -Exhibit Design - Parks Canada - National...</td>\n",
       "      <td>World Trade Organization-Agreement on Governme...</td>\n",
       "      <td>4</td>\n",
       "    </tr>\n",
       "  </tbody>\n",
       "</table>\n",
       "</div>"
      ],
      "text/plain": [
       "                         GSIN_code  URL  \\\n",
       "0                        [JX1990A]  NaN   \n",
       "1  [E111A, JX1990H, N4235, N5430D]  NaN   \n",
       "2                         [T004KA]  NaN   \n",
       "3                          [N7030]  NaN   \n",
       "4         [T002AA, T002AB, T002AJ]  NaN   \n",
       "\n",
       "                                       buyer_contact  \\\n",
       "0  DeBlois, Vincent, vincent.deblois@tpsgc-pwgsc....   \n",
       "1  Richards, Shazia, shazia.khan@tpsgc-pwgsc.gc.c...   \n",
       "2  Westall, Susan, susan.westall@tpsgc-pwgsc.gc.c...   \n",
       "3  Niyonambaza (SMS div), Audace, audace.niyonamb...   \n",
       "4  Kalp, Lynn, 613-938-5803, 866-246-6893, 111 Wa...   \n",
       "\n",
       "                                    buyer_name               closing_date  \\\n",
       "0                  Fisheries and Oceans Canada  2019-09-12 14:00:00-04:00   \n",
       "1                  Fisheries and Oceans Canada  2019-09-12 14:00:00-04:00   \n",
       "2  Public Works and Government Services Canada  2020-01-31 14:00:00-05:00   \n",
       "3  Public Works and Government Services Canada  2023-10-02 14:00:00-04:00   \n",
       "4                                 Parks Canada  2019-10-01 14:00:00-04:00   \n",
       "\n",
       "                                    location_of_work  \\\n",
       "0                                             Quebec   \n",
       "1  British Columbia, Newfoundland and Labrador, N...   \n",
       "2  Alberta, British Columbia, Manitoba, National ...   \n",
       "3                            National Capital Region   \n",
       "4                                             Canada   \n",
       "\n",
       "                                   procurement_rules  \\\n",
       "0          All interested suppliers may submit a bid   \n",
       "1          All interested suppliers may submit a bid   \n",
       "2  The bidder must supply Canadian goods and/or s...   \n",
       "3          All interested suppliers may submit a bid   \n",
       "4                                               Open   \n",
       "\n",
       "                          province_territory_of_work published_date  \\\n",
       "0                                               [QC]     2019-08-16   \n",
       "1                               [BC, NL, NS, ON, QC]     2019-06-21   \n",
       "2  [AB, BC, MB, ON, QC, NB, NL, NT, NS, NU, ON, P...     2014-01-20   \n",
       "3                                           [ON, QC]     2013-07-03   \n",
       "4  [NL, PE, NS, NB, QC, ON, MB, SK, AB, BC, YK, N...     2014-02-19   \n",
       "\n",
       "               selection_criteria  \\\n",
       "0                Lowest/Lower Bid   \n",
       "1                Lowest/Lower Bid   \n",
       "2  Subsequent/Follow-on Contracts   \n",
       "3  Subsequent/Follow-on Contracts   \n",
       "4                             NaN   \n",
       "\n",
       "                                  tender_description  \\\n",
       "0  Trade Agreement: Canadian Free Trade Agreement...   \n",
       "1  Trade Agreement: NAFTA / CFTA / FTAs with Peru...   \n",
       "2  Trade Agreement: Canadian Free Trade Agreement...   \n",
       "3  Trade Agreement: NONE Tendering Procedures: Al...   \n",
       "4  Request for Supply Arrangement, Parks Canada A...   \n",
       "\n",
       "                                               title  \\\n",
       "0  CCGS Amundsen -Dry Dock and refit-Fall 2019 (F...   \n",
       "1  EREP: Self-Propelled Advancing Skimmer (F7047-...   \n",
       "2           Social Media Monitoring (EN578-141760/B)   \n",
       "3  Software Licensing Supply Arrangement (EN578-1...   \n",
       "4  RFSA -Exhibit Design - Parks Canada - National...   \n",
       "\n",
       "                                     trade_agreement  id  \n",
       "0               Canadian Free Trade Agreement (CFTA)   0  \n",
       "1  Canada-Panama Free Trade Agreement, Canada-Kor...   1  \n",
       "2               Canadian Free Trade Agreement (CFTA)   2  \n",
       "3                                         None, None   3  \n",
       "4  World Trade Organization-Agreement on Governme...   4  "
      ]
     },
     "execution_count": 90,
     "metadata": {},
     "output_type": "execute_result"
    }
   ],
   "source": [
    "sample_data.head()"
   ]
  },
  {
   "cell_type": "code",
   "execution_count": null,
   "metadata": {},
   "outputs": [],
   "source": []
  }
 ],
 "metadata": {
  "kernelspec": {
   "display_name": "Python 3",
   "language": "python",
   "name": "python3"
  },
  "language_info": {
   "codemirror_mode": {
    "name": "ipython",
    "version": 3
   },
   "file_extension": ".py",
   "mimetype": "text/x-python",
   "name": "python",
   "nbconvert_exporter": "python",
   "pygments_lexer": "ipython3",
   "version": "3.6.4"
  }
 },
 "nbformat": 4,
 "nbformat_minor": 2
}
