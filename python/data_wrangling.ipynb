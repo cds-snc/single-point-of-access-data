{
 "cells": [
  {
   "cell_type": "code",
   "execution_count": 135,
   "metadata": {},
   "outputs": [],
   "source": [
    "import pandas as pd\n",
    "from io import StringIO\n",
    "import dateutil.parser as dp\n",
    "import airtable\n",
    "import json"
   ]
  },
  {
   "cell_type": "code",
   "execution_count": 136,
   "metadata": {},
   "outputs": [],
   "source": [
    "# yk = pd.read_csv(\"../sample_data/Yukon.csv\")"
   ]
  },
  {
   "cell_type": "code",
   "execution_count": 137,
   "metadata": {},
   "outputs": [],
   "source": [
    "col_df = airtable.get_df()"
   ]
  },
  {
   "cell_type": "code",
   "execution_count": 138,
   "metadata": {},
   "outputs": [],
   "source": [
    "col_df.set_index(\"organization\", inplace=True)"
   ]
  },
  {
   "cell_type": "code",
   "execution_count": 139,
   "metadata": {},
   "outputs": [],
   "source": [
    "del col_df[\"id\"]"
   ]
  },
  {
   "cell_type": "code",
   "execution_count": 172,
   "metadata": {},
   "outputs": [],
   "source": [
    "def get_sample_data(col_df, location_code, raw_df):\n",
    "    sample_data = pd.DataFrame(columns=col_df.columns)\n",
    "    for col in col_df.columns:\n",
    "        if pd.isna(col_df[col][location_code]):\n",
    "            continue\n",
    "        raw_col = col_df[col][location_code].strip()\n",
    "        if \",\" in raw_col:\n",
    "            # we need to map more than 1 column, so skip for now\n",
    "            continue\n",
    "        sample_data[col] = raw_df[raw_col].copy()   \n",
    "    return sample_data"
   ]
  },
  {
   "cell_type": "markdown",
   "metadata": {},
   "source": [
    "## Federal"
   ]
  },
  {
   "cell_type": "code",
   "execution_count": 179,
   "metadata": {},
   "outputs": [],
   "source": [
    "fed = pd.read_csv(\"../sample_data/Federal.csv\")"
   ]
  },
  {
   "cell_type": "code",
   "execution_count": 180,
   "metadata": {},
   "outputs": [],
   "source": [
    "# from https://stackoverflow.com/a/4766400\n",
    "\n",
    "tz_str = '''-12 Y\n",
    "-11 X NUT SST\n",
    "-10 W CKT HAST HST TAHT TKT\n",
    "-9 V AKST GAMT GIT HADT HNY\n",
    "-8 U AKDT CIST HAY HNP PST PT\n",
    "-7 T HAP HNR MST PDT\n",
    "-6 S CST EAST GALT HAR HNC MDT\n",
    "-5 R CDT COT EASST ECT EST ET HAC HNE PET\n",
    "-4 Q AST BOT CLT COST EDT FKT GYT HAE HNA PYT\n",
    "-3 P ADT ART BRT CLST FKST GFT HAA PMST PYST SRT UYT WGT\n",
    "-2 O BRST FNT PMDT UYST WGST\n",
    "-1 N AZOT CVT EGT\n",
    "0 Z EGST GMT UTC WET WT\n",
    "1 A CET DFT WAT WEDT WEST\n",
    "2 B CAT CEDT CEST EET SAST WAST\n",
    "3 C EAT EEDT EEST IDT MSK\n",
    "4 D AMT AZT GET GST KUYT MSD MUT RET SAMT SCT\n",
    "5 E AMST AQTT AZST HMT MAWT MVT PKT TFT TJT TMT UZT YEKT\n",
    "6 F ALMT BIOT BTT IOT KGT NOVT OMST YEKST\n",
    "7 G CXT DAVT HOVT ICT KRAT NOVST OMSST THA WIB\n",
    "8 H ACT AWST BDT BNT CAST HKT IRKT KRAST MYT PHT SGT ULAT WITA WST\n",
    "9 I AWDT IRKST JST KST PWT TLT WDT WIT YAKT\n",
    "10 K AEST ChST PGT VLAT YAKST YAPT\n",
    "11 L AEDT LHDT MAGT NCT PONT SBT VLAST VUT\n",
    "12 M ANAST ANAT FJT GILT MAGST MHT NZST PETST PETT TVT WFT\n",
    "13 FJST NZDT\n",
    "11.5 NFT\n",
    "10.5 ACDT LHST\n",
    "9.5 ACST\n",
    "6.5 CCT MMT\n",
    "5.75 NPT\n",
    "5.5 SLT\n",
    "4.5 AFT IRDT\n",
    "3.5 IRST\n",
    "-2.5 HAT NDT\n",
    "-3.5 HNT NST NT\n",
    "-4.5 HLV VET\n",
    "-9.5 MART MIT'''\n",
    "\n",
    "tzd = {}\n",
    "for tz_descr in map(str.split, tz_str.split('\\n')):\n",
    "    tz_offset = int(float(tz_descr[0]) * 3600)\n",
    "    for tz_code in tz_descr[1:]:\n",
    "        tzd[tz_code] = tz_offset"
   ]
  },
  {
   "cell_type": "code",
   "execution_count": 181,
   "metadata": {},
   "outputs": [],
   "source": [
    "def parse_fed_time(x):\n",
    "    y = x.split(\" \")\n",
    "    clean_str = y[0] + \" \" + y[1] + \" \" + y[-1][1:-1]\n",
    "    return dp.parse(clean_str, tzinfos=tzd)"
   ]
  },
  {
   "cell_type": "code",
   "execution_count": 182,
   "metadata": {},
   "outputs": [],
   "source": [
    "fed = fed.query(\"language == 'English'\").copy()"
   ]
  },
  {
   "cell_type": "code",
   "execution_count": 183,
   "metadata": {},
   "outputs": [],
   "source": [
    "sample_data_fed = get_sample_data(col_df, \"federal\", fed)"
   ]
  },
  {
   "cell_type": "code",
   "execution_count": 185,
   "metadata": {},
   "outputs": [],
   "source": [
    "sample_data_fed[\"closing_date\"] = sample_data_fed[\"closing_date\"].map(parse_fed_time)\n",
    "sample_data_fed[\"closing_date\"] = sample_data_fed[\"closing_date\"].map(lambda x: str(x))"
   ]
  },
  {
   "cell_type": "code",
   "execution_count": 186,
   "metadata": {},
   "outputs": [],
   "source": [
    "# I need to parse province_territory_of_work into a list of 2 letter codes\n",
    "# ref: https://www12.statcan.gc.ca/census-recensement/2011/ref/dict/table-tableau/table-tableau-8-eng.cfm\n",
    "prov_terr_dict = {\n",
    "    \"Newfoundland and Labrador\": \"NL\",\n",
    "    \"Prince Edward Island\": \"PE\",\n",
    "    \"Nova Scotia\": \"NS\",\n",
    "    \"New Brunswick\": \"NB\",\n",
    "    \"Quebec\": \"QC\",\n",
    "    \"Ontario\": \"ON\",\n",
    "    \"Manitoba\": \"MB\",\n",
    "    \"Saskatchewan\": \"SK\",\n",
    "    \"Alberta\": \"AB\",\n",
    "    \"British Columbia\": \"BC\",\n",
    "    \"Yukon\": \"YK\",\n",
    "    \"Northwest Territories\": \"NT\",\n",
    "    \"Nunavut\": \"NU\",\n",
    "    \"National Capital Region\": \"ON, QC\",\n",
    "    \"Canada\": \"NL, PE, NS, NB, QC, ON, MB, SK, AB, BC, YK, NT, NU\",\n",
    "    # will have to think about the locations below and how they will be represented in filtering\n",
    "    \"Aboriginal Lands\": \"\",\n",
    "    \"Foreign\": \"\",\n",
    "    \"United States\": \"\",\n",
    "    \"World\": \"\",\n",
    "    \"Europe\": \"\",\n",
    "    \"Mexico\": \"\",\n",
    "    \"Unspecified\": \"\"\n",
    "}\n",
    "\n",
    "def replace_with_acronyms(x):\n",
    "    for k in prov_terr_dict:\n",
    "        x = x.replace(k, prov_terr_dict[k])\n",
    "    return [y.strip() for y in x.split(\",\") if y]\n"
   ]
  },
  {
   "cell_type": "code",
   "execution_count": 187,
   "metadata": {},
   "outputs": [],
   "source": [
    "sample_data_fed[\"province_territory_of_work\"] = sample_data_fed[\"province_territory_of_work\"].map(replace_with_acronyms)"
   ]
  },
  {
   "cell_type": "code",
   "execution_count": 188,
   "metadata": {},
   "outputs": [],
   "source": [
    "def is_capital(letter):\n",
    "    return letter.lower() != letter\n",
    "\n",
    "def get_gsins(field):\n",
    "    gsins = []\n",
    "    for x in field.split(\",\"):\n",
    "        parts = x.strip().split(\" - \")\n",
    "        if len(parts) < 2:\n",
    "            continue\n",
    "        maybe_code = parts[0]\n",
    "        if len(maybe_code) < 3:\n",
    "            continue\n",
    "        # 2nd char of code must be a capital letter or number, 3rd char a digit\n",
    "        char_1 = maybe_code[1]\n",
    "        char_2 = maybe_code[2]\n",
    "        if is_capital(char_1) or char_1.isdigit():\n",
    "            gsins.append(parts[0])\n",
    "    return gsins"
   ]
  },
  {
   "cell_type": "code",
   "execution_count": 189,
   "metadata": {},
   "outputs": [],
   "source": [
    "sample_data_fed[\"GSIN_code\"] = sample_data_fed[\"GSIN_code\"].map(get_gsins)"
   ]
  },
  {
   "cell_type": "code",
   "execution_count": 190,
   "metadata": {},
   "outputs": [],
   "source": [
    "fed_url = \"https://buyandsell.gc.ca/procurement-data/tender-notice/\"\n",
    "sample_data_fed[\"URL\"] = sample_data_fed[\"URL\"].map(lambda x: fed_url + x.replace(\"$\", \"\") )"
   ]
  },
  {
   "cell_type": "markdown",
   "metadata": {},
   "source": [
    "## BC"
   ]
  },
  {
   "cell_type": "code",
   "execution_count": 191,
   "metadata": {},
   "outputs": [],
   "source": [
    "bc = pd.read_csv(\"../sample_data/British_Columbia.csv\")"
   ]
  },
  {
   "cell_type": "code",
   "execution_count": 192,
   "metadata": {},
   "outputs": [],
   "source": [
    "sample_data_bc = get_sample_data(col_df, \"bc\", bc)"
   ]
  },
  {
   "cell_type": "code",
   "execution_count": 194,
   "metadata": {},
   "outputs": [],
   "source": [
    "sample_data_bc[\"province_territory_of_work\"] = sample_data_bc[\"province_territory_of_work\"].map(lambda x: [x])"
   ]
  },
  {
   "cell_type": "code",
   "execution_count": 195,
   "metadata": {},
   "outputs": [],
   "source": [
    "sample_data_bc[\"buyer_name\"] = sample_data_bc[\"buyer_name\"].map(lambda x: x.split(\"\\n\")[2])"
   ]
  },
  {
   "cell_type": "code",
   "execution_count": 196,
   "metadata": {},
   "outputs": [],
   "source": [
    "sample_data_bc[\"published_date\"] = sample_data_bc[\"published_date\"].map(lambda x: str(pd.to_datetime(str(x)).date()))\n",
    "bc[\"CLOSING_DATETIME\"] = bc[\"CLOSING_DATE\"].map(str) + \" \" + bc[\"CLOSING_TIME\"].map(lambda x: x.split(\" \")[0]) + \" \" + bc[\"CLOSING_TIME\"].map(lambda x: x.split(\" \")[1]).map({\"Local\": \"PST\", \"Pacific\": \"PST\", \"Mountain\": \"MST\"})\n",
    "sample_data_bc[\"closing_date\"] = bc[\"CLOSING_DATETIME\"].map(lambda x: str(dp.parse(x, tzinfos=tzd)))"
   ]
  },
  {
   "cell_type": "code",
   "execution_count": 197,
   "metadata": {},
   "outputs": [],
   "source": [
    "sample_data_bc[\"GSIN_code\"] = sample_data_bc[\"GSIN_code\"].map(lambda x: str(x).split(\" \"))"
   ]
  },
  {
   "cell_type": "markdown",
   "metadata": {},
   "source": [
    "## Nunavut"
   ]
  },
  {
   "cell_type": "code",
   "execution_count": 198,
   "metadata": {},
   "outputs": [],
   "source": [
    "nu = pd.read_csv(\"../sample_data/Nunuvat.csv\")"
   ]
  },
  {
   "cell_type": "code",
   "execution_count": 199,
   "metadata": {},
   "outputs": [],
   "source": [
    "sample_data_nu = get_sample_data(col_df, \"nu\", nu)"
   ]
  },
  {
   "cell_type": "code",
   "execution_count": 201,
   "metadata": {},
   "outputs": [],
   "source": [
    "def get_nu_location(_location):\n",
    "    location_dict = {\"Nunavut\": \"NU\"}\n",
    "    parts = _location.split(\",\")\n",
    "    if len(parts) == 1:\n",
    "        return location_dict[parts[0]]\n",
    "    \n",
    "    return parts[-1].strip()"
   ]
  },
  {
   "cell_type": "code",
   "execution_count": 202,
   "metadata": {},
   "outputs": [],
   "source": [
    "sample_data_nu[\"province_territory_of_work\"] = sample_data_nu[\"province_territory_of_work\"].map(get_nu_location)"
   ]
  },
  {
   "cell_type": "code",
   "execution_count": 203,
   "metadata": {},
   "outputs": [],
   "source": [
    "abc1 = sample_data_nu.closing_date[0]\n",
    "abc2 = sample_data_nu.closing_date[2]"
   ]
  },
  {
   "cell_type": "code",
   "execution_count": 204,
   "metadata": {},
   "outputs": [],
   "source": [
    "sample_data_nu[\"closing_date\"] = sample_data_nu[\"closing_date\"].map(lambda x: x if \"EDT\" in x else x + \" 16:00 EDT\").map(lambda x: str(dp.parse(x, tzinfos=tzd)))"
   ]
  },
  {
   "cell_type": "markdown",
   "metadata": {},
   "source": [
    "## Alberta"
   ]
  },
  {
   "cell_type": "code",
   "execution_count": 162,
   "metadata": {},
   "outputs": [],
   "source": [
    "ab = pd.read_csv(\"../sample_data/Alberta.csv\")"
   ]
  },
  {
   "cell_type": "code",
   "execution_count": 213,
   "metadata": {},
   "outputs": [],
   "source": [
    "sample_data_ab = get_sample_data(col_df, \"ab\", ab)"
   ]
  },
  {
   "cell_type": "code",
   "execution_count": 223,
   "metadata": {},
   "outputs": [],
   "source": [
    "sample_data_ab[\"GSIN_code\"] = sample_data_ab[\"GSIN_code\"].map(lambda x: x.split(\"  \") if x == x else []).map(lambda x: [y.split(\" \")[0] for y in x])"
   ]
  },
  {
   "cell_type": "code",
   "execution_count": 230,
   "metadata": {},
   "outputs": [],
   "source": [
    "sample_data_ab[\"tender_description\"] = ab[\"ShortDescription\"].map(lambda x: x + \"\\n\" if x==x else \"\") + ab[\"LongDescription\"].map(lambda x: x if x==x else \"\")"
   ]
  },
  {
   "cell_type": "code",
   "execution_count": 238,
   "metadata": {},
   "outputs": [],
   "source": [
    "sample_data_ab[\"buyer_contact\"] =  ab[\"ContactFirstName\"] + \" \" + ab[\"ContactLastName\"] + \"\\n\" + ab[\"ContactPhone\"]"
   ]
  },
  {
   "cell_type": "markdown",
   "metadata": {},
   "source": [
    "## Assemble sample data"
   ]
  },
  {
   "cell_type": "code",
   "execution_count": 244,
   "metadata": {},
   "outputs": [],
   "source": [
    "sample_data = pd.DataFrame(columns=col_df.keys())"
   ]
  },
  {
   "cell_type": "code",
   "execution_count": 245,
   "metadata": {},
   "outputs": [],
   "source": [
    "sample_data = pd.concat([sample_data, sample_data_fed], sort=False)\n",
    "sample_data = pd.concat([sample_data, sample_data_bc], sort=False)\n",
    "sample_data = pd.concat([sample_data, sample_data_ab], sort=False)"
   ]
  },
  {
   "cell_type": "code",
   "execution_count": 246,
   "metadata": {},
   "outputs": [],
   "source": [
    "sample_data.index = range(len(sample_data))"
   ]
  },
  {
   "cell_type": "code",
   "execution_count": 247,
   "metadata": {},
   "outputs": [],
   "source": [
    "sample_data[\"id\"] = range(len(sample_data))"
   ]
  },
  {
   "cell_type": "code",
   "execution_count": null,
   "metadata": {},
   "outputs": [],
   "source": []
  },
  {
   "cell_type": "markdown",
   "metadata": {},
   "source": [
    "## Save sample data"
   ]
  },
  {
   "cell_type": "code",
   "execution_count": 248,
   "metadata": {},
   "outputs": [],
   "source": [
    "sample_data.to_json(\"../sample_data/sample_data.json\", orient=\"records\")"
   ]
  },
  {
   "cell_type": "code",
   "execution_count": 249,
   "metadata": {},
   "outputs": [],
   "source": [
    "sample_data.to_json(\"../../single-point-of-access-prototype/data/sample_data.json\", orient=\"records\")"
   ]
  },
  {
   "cell_type": "code",
   "execution_count": null,
   "metadata": {},
   "outputs": [],
   "source": []
  },
  {
   "cell_type": "code",
   "execution_count": null,
   "metadata": {},
   "outputs": [],
   "source": []
  },
  {
   "cell_type": "code",
   "execution_count": null,
   "metadata": {},
   "outputs": [],
   "source": []
  }
 ],
 "metadata": {
  "kernelspec": {
   "display_name": "Python 3",
   "language": "python",
   "name": "python3"
  },
  "language_info": {
   "codemirror_mode": {
    "name": "ipython",
    "version": 3
   },
   "file_extension": ".py",
   "mimetype": "text/x-python",
   "name": "python",
   "nbconvert_exporter": "python",
   "pygments_lexer": "ipython3",
   "version": "3.6.4"
  }
 },
 "nbformat": 4,
 "nbformat_minor": 2
}
