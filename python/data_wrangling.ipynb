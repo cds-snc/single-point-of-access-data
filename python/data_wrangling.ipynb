{
 "cells": [
  {
   "cell_type": "code",
   "execution_count": 266,
   "metadata": {},
   "outputs": [],
   "source": [
    "import pandas as pd\n",
    "from io import StringIO\n",
    "import dateutil.parser as dp\n",
    "import airtable"
   ]
  },
  {
   "cell_type": "code",
   "execution_count": 267,
   "metadata": {},
   "outputs": [],
   "source": [
    "fed = pd.read_csv(\"../sample_data/Federal.csv\")\n",
    "ab = pd.read_csv(\"../sample_data/Alberta.csv\")\n",
    "nu = pd.read_csv(\"../sample_data/Nunuvat.csv\")\n",
    "bc = pd.read_csv(\"../sample_data/British_Columbia.csv\")\n",
    "yk = pd.read_csv(\"../sample_data/Yukon.csv\")"
   ]
  },
  {
   "cell_type": "code",
   "execution_count": 268,
   "metadata": {},
   "outputs": [],
   "source": [
    "col_df = airtable.get_df()"
   ]
  },
  {
   "cell_type": "code",
   "execution_count": 269,
   "metadata": {},
   "outputs": [],
   "source": [
    "col_df.set_index(\"organization\", inplace=True)"
   ]
  },
  {
   "cell_type": "code",
   "execution_count": 270,
   "metadata": {},
   "outputs": [],
   "source": [
    "del col_df[\"id\"]"
   ]
  },
  {
   "cell_type": "code",
   "execution_count": 271,
   "metadata": {},
   "outputs": [],
   "source": [
    "sample_data = pd.DataFrame(columns=col_df.keys())"
   ]
  },
  {
   "cell_type": "markdown",
   "metadata": {},
   "source": [
    "## Federal"
   ]
  },
  {
   "cell_type": "code",
   "execution_count": 272,
   "metadata": {},
   "outputs": [],
   "source": [
    "# from https://stackoverflow.com/a/4766400\n",
    "\n",
    "tz_str = '''-12 Y\n",
    "-11 X NUT SST\n",
    "-10 W CKT HAST HST TAHT TKT\n",
    "-9 V AKST GAMT GIT HADT HNY\n",
    "-8 U AKDT CIST HAY HNP PST PT\n",
    "-7 T HAP HNR MST PDT\n",
    "-6 S CST EAST GALT HAR HNC MDT\n",
    "-5 R CDT COT EASST ECT EST ET HAC HNE PET\n",
    "-4 Q AST BOT CLT COST EDT FKT GYT HAE HNA PYT\n",
    "-3 P ADT ART BRT CLST FKST GFT HAA PMST PYST SRT UYT WGT\n",
    "-2 O BRST FNT PMDT UYST WGST\n",
    "-1 N AZOT CVT EGT\n",
    "0 Z EGST GMT UTC WET WT\n",
    "1 A CET DFT WAT WEDT WEST\n",
    "2 B CAT CEDT CEST EET SAST WAST\n",
    "3 C EAT EEDT EEST IDT MSK\n",
    "4 D AMT AZT GET GST KUYT MSD MUT RET SAMT SCT\n",
    "5 E AMST AQTT AZST HMT MAWT MVT PKT TFT TJT TMT UZT YEKT\n",
    "6 F ALMT BIOT BTT IOT KGT NOVT OMST YEKST\n",
    "7 G CXT DAVT HOVT ICT KRAT NOVST OMSST THA WIB\n",
    "8 H ACT AWST BDT BNT CAST HKT IRKT KRAST MYT PHT SGT ULAT WITA WST\n",
    "9 I AWDT IRKST JST KST PWT TLT WDT WIT YAKT\n",
    "10 K AEST ChST PGT VLAT YAKST YAPT\n",
    "11 L AEDT LHDT MAGT NCT PONT SBT VLAST VUT\n",
    "12 M ANAST ANAT FJT GILT MAGST MHT NZST PETST PETT TVT WFT\n",
    "13 FJST NZDT\n",
    "11.5 NFT\n",
    "10.5 ACDT LHST\n",
    "9.5 ACST\n",
    "6.5 CCT MMT\n",
    "5.75 NPT\n",
    "5.5 SLT\n",
    "4.5 AFT IRDT\n",
    "3.5 IRST\n",
    "-2.5 HAT NDT\n",
    "-3.5 HNT NST NT\n",
    "-4.5 HLV VET\n",
    "-9.5 MART MIT'''\n",
    "\n",
    "tzd = {}\n",
    "for tz_descr in map(str.split, tz_str.split('\\n')):\n",
    "    tz_offset = int(float(tz_descr[0]) * 3600)\n",
    "    for tz_code in tz_descr[1:]:\n",
    "        tzd[tz_code] = tz_offset"
   ]
  },
  {
   "cell_type": "code",
   "execution_count": 273,
   "metadata": {},
   "outputs": [],
   "source": [
    "def parse_fed_time(x):\n",
    "    y = x.split(\" \")\n",
    "    clean_str = y[0] + \" \" + y[1] + \" \" + y[-1][1:-1]\n",
    "    return dp.parse(clean_str, tzinfos=tzd)"
   ]
  },
  {
   "cell_type": "code",
   "execution_count": 274,
   "metadata": {},
   "outputs": [],
   "source": [
    "sample_data_fed = pd.DataFrame(columns=col_df.columns)\n",
    "for col in col_df.columns:\n",
    "    fed_col = col_df[col][\"federal\"]\n",
    "    if fed_col == fed_col:\n",
    "        sample_data_fed[col] = fed.query(\"language == 'English'\")[fed_col].copy()        "
   ]
  },
  {
   "cell_type": "code",
   "execution_count": 275,
   "metadata": {},
   "outputs": [],
   "source": [
    "sample_data_fed[\"closing_date\"] = sample_data_fed[\"closing_date\"].map(parse_fed_time)\n",
    "sample_data_fed[\"closing_date\"] = sample_data_fed[\"closing_date\"].map(lambda x: str(x))"
   ]
  },
  {
   "cell_type": "code",
   "execution_count": 276,
   "metadata": {},
   "outputs": [],
   "source": [
    "# I need to parse province_territory_of_work into a list of 2 letter codes\n",
    "# ref: https://www12.statcan.gc.ca/census-recensement/2011/ref/dict/table-tableau/table-tableau-8-eng.cfm\n",
    "prov_terr_dict = {\n",
    "    \"Newfoundland and Labrador\": \"NL\",\n",
    "    \"Prince Edward Island\": \"PE\",\n",
    "    \"Nova Scotia\": \"NS\",\n",
    "    \"New Brunswick\": \"NB\",\n",
    "    \"Quebec\": \"QC\",\n",
    "    \"Ontario\": \"ON\",\n",
    "    \"Manitoba\": \"MB\",\n",
    "    \"Saskatchewan\": \"SK\",\n",
    "    \"Alberta\": \"AB\",\n",
    "    \"British Columbia\": \"BC\",\n",
    "    \"Yukon\": \"YK\",\n",
    "    \"Northwest Territories\": \"NT\",\n",
    "    \"Nunavut\": \"NU\",\n",
    "    \"National Capital Region\": \"ON, QC\",\n",
    "    \"Canada\": \"NL, PE, NS, NB, QC, ON, MB, SK, AB, BC, YK, NT, NU\",\n",
    "    # will have to think about the locations below and how they will be represented in filtering\n",
    "    \"Aboriginal Lands\": \"\",\n",
    "    \"Foreign\": \"\",\n",
    "    \"United States\": \"\",\n",
    "    \"World\": \"\",\n",
    "    \"Europe\": \"\",\n",
    "    \"Mexico\": \"\",\n",
    "    \"Unspecified\": \"\"\n",
    "}\n",
    "\n",
    "def replace_with_acronyms(x):\n",
    "    for k in prov_terr_dict:\n",
    "        x = x.replace(k, prov_terr_dict[k])\n",
    "    return [y.strip() for y in x.split(\",\") if y]\n"
   ]
  },
  {
   "cell_type": "code",
   "execution_count": 277,
   "metadata": {},
   "outputs": [],
   "source": [
    "sample_data_fed[\"province_territory_of_work\"] = sample_data_fed[\"province_territory_of_work\"].map(replace_with_acronyms)"
   ]
  },
  {
   "cell_type": "code",
   "execution_count": 278,
   "metadata": {},
   "outputs": [],
   "source": [
    "def is_capital(letter):\n",
    "    return letter.lower() != letter\n",
    "\n",
    "def get_gsins(field):\n",
    "    gsins = []\n",
    "    for x in field.split(\",\"):\n",
    "        parts = x.strip().split(\" - \")\n",
    "        if len(parts) < 2:\n",
    "            continue\n",
    "        maybe_code = parts[0]\n",
    "        if len(maybe_code) < 3:\n",
    "            continue\n",
    "        # 2nd char of code must be a capital letter or number, 3rd char a digit\n",
    "        char_1 = maybe_code[1]\n",
    "        char_2 = maybe_code[2]\n",
    "        if is_capital(char_1) or char_1.isdigit():\n",
    "            gsins.append(parts[0])\n",
    "    return gsins"
   ]
  },
  {
   "cell_type": "code",
   "execution_count": 279,
   "metadata": {},
   "outputs": [],
   "source": [
    "sample_data_fed[\"GSIN_code\"] = sample_data_fed[\"GSIN_code\"].map(get_gsins)"
   ]
  },
  {
   "cell_type": "code",
   "execution_count": 280,
   "metadata": {},
   "outputs": [],
   "source": [
    "sample_data = pd.concat([sample_data, sample_data_fed], sort=False)"
   ]
  },
  {
   "cell_type": "markdown",
   "metadata": {},
   "source": [
    "## BC"
   ]
  },
  {
   "cell_type": "code",
   "execution_count": 281,
   "metadata": {},
   "outputs": [],
   "source": [
    "sample_data_bc = pd.DataFrame(columns=col_df.columns)\n",
    "for col in col_df.columns:\n",
    "    bc_col = col_df[col][\"bc\"].strip()\n",
    "    if \",\" in bc_col:\n",
    "        # we need to map more than 1 column, so skip for now\n",
    "        continue\n",
    "    if bc_col == bc_col:\n",
    "        sample_data_bc[col] = bc[bc_col].copy()        "
   ]
  },
  {
   "cell_type": "code",
   "execution_count": 282,
   "metadata": {},
   "outputs": [],
   "source": [
    "sample_data_bc[\"province_territory_of_work\"] = sample_data_bc[\"province_territory_of_work\"].map(lambda x: [x])"
   ]
  },
  {
   "cell_type": "code",
   "execution_count": 283,
   "metadata": {},
   "outputs": [],
   "source": [
    "sample_data_bc[\"buyer_name\"] = sample_data_bc[\"buyer_name\"].map(lambda x: x.split(\"\\n\")[2])"
   ]
  },
  {
   "cell_type": "code",
   "execution_count": 284,
   "metadata": {},
   "outputs": [],
   "source": [
    "sample_data_bc[\"published_date\"] = sample_data_bc[\"published_date\"].map(lambda x: pd.to_datetime(str(x)).date())\n",
    "bc[\"CLOSING_DATETIME\"] = bc[\"CLOSING_DATE\"].map(str) + \" \" + bc[\"CLOSING_TIME\"].map(lambda x: x.split(\" \")[0]) + \" \" + bc[\"CLOSING_TIME\"].map(lambda x: x.split(\" \")[1]).map({\"Local\": \"PST\", \"Pacific\": \"PST\", \"Mountain\": \"MST\"})\n",
    "sample_data_bc[\"closing_date\"] = bc[\"CLOSING_DATETIME\"].map(lambda x: str(dp.parse(x, tzinfos=tzd)))"
   ]
  },
  {
   "cell_type": "code",
   "execution_count": 285,
   "metadata": {},
   "outputs": [],
   "source": [
    "sample_data = pd.concat([sample_data, sample_data_bc], sort=False)"
   ]
  },
  {
   "cell_type": "markdown",
   "metadata": {},
   "source": [
    "## Nunavut"
   ]
  },
  {
   "cell_type": "code",
   "execution_count": 326,
   "metadata": {},
   "outputs": [
    {
     "data": {
      "text/html": [
       "<div>\n",
       "<style scoped>\n",
       "    .dataframe tbody tr th:only-of-type {\n",
       "        vertical-align: middle;\n",
       "    }\n",
       "\n",
       "    .dataframe tbody tr th {\n",
       "        vertical-align: top;\n",
       "    }\n",
       "\n",
       "    .dataframe thead th {\n",
       "        text-align: right;\n",
       "    }\n",
       "</style>\n",
       "<table border=\"1\" class=\"dataframe\">\n",
       "  <thead>\n",
       "    <tr style=\"text-align: right;\">\n",
       "      <th></th>\n",
       "      <th>GSIN_code</th>\n",
       "      <th>URL</th>\n",
       "      <th>buyer_contact</th>\n",
       "      <th>buyer_name</th>\n",
       "      <th>closing_date</th>\n",
       "      <th>location_of_work</th>\n",
       "      <th>province_territory_of_work</th>\n",
       "      <th>published_date</th>\n",
       "      <th>tender_description</th>\n",
       "      <th>title</th>\n",
       "    </tr>\n",
       "    <tr>\n",
       "      <th>organization</th>\n",
       "      <th></th>\n",
       "      <th></th>\n",
       "      <th></th>\n",
       "      <th></th>\n",
       "      <th></th>\n",
       "      <th></th>\n",
       "      <th></th>\n",
       "      <th></th>\n",
       "      <th></th>\n",
       "      <th></th>\n",
       "    </tr>\n",
       "  </thead>\n",
       "  <tbody>\n",
       "    <tr>\n",
       "      <th>ab</th>\n",
       "      <td>Gsins</td>\n",
       "      <td>OriginSystemUrl</td>\n",
       "      <td>ContactFirstName, ContactLastName, ContactPhon...</td>\n",
       "      <td>NaN</td>\n",
       "      <td>CloseDateUtc</td>\n",
       "      <td>RegionOfDelivery</td>\n",
       "      <td>Jurisdiction</td>\n",
       "      <td>PostDateUtc</td>\n",
       "      <td>LongDescription, ShortDescription</td>\n",
       "      <td>Title</td>\n",
       "    </tr>\n",
       "    <tr>\n",
       "      <th>bc</th>\n",
       "      <td>GSIN</td>\n",
       "      <td>URL</td>\n",
       "      <td>E_DETAIL_2, TELEPHONE</td>\n",
       "      <td>E_DETAIL_2</td>\n",
       "      <td>CLOSING_DATE,CLOSING_TIME</td>\n",
       "      <td>REGION_DELIVERY</td>\n",
       "      <td>JURISDICTION</td>\n",
       "      <td>POSTING_DATE</td>\n",
       "      <td>E_DETAIL_1</td>\n",
       "      <td>E_TITLE</td>\n",
       "    </tr>\n",
       "    <tr>\n",
       "      <th>federal</th>\n",
       "      <td>gsin</td>\n",
       "      <td>NaN</td>\n",
       "      <td>contact</td>\n",
       "      <td>end_user_entity</td>\n",
       "      <td>date_closing</td>\n",
       "      <td>region_delivery</td>\n",
       "      <td>region_delivery</td>\n",
       "      <td>publication_date</td>\n",
       "      <td>description</td>\n",
       "      <td>title</td>\n",
       "    </tr>\n",
       "    <tr>\n",
       "      <th>NaN</th>\n",
       "      <td>NaN</td>\n",
       "      <td>NaN</td>\n",
       "      <td>NaN</td>\n",
       "      <td>NaN</td>\n",
       "      <td>NaN</td>\n",
       "      <td>NaN</td>\n",
       "      <td>NaN</td>\n",
       "      <td>NaN</td>\n",
       "      <td>NaN</td>\n",
       "      <td>NaN</td>\n",
       "    </tr>\n",
       "    <tr>\n",
       "      <th>nu</th>\n",
       "      <td>NaN</td>\n",
       "      <td>NaN</td>\n",
       "      <td>Contact Person, Phone Number, Email</td>\n",
       "      <td>NaN</td>\n",
       "      <td>ClosingDate</td>\n",
       "      <td>FOB Point Or Location</td>\n",
       "      <td>FOB Point Or Location</td>\n",
       "      <td>IssuedDate</td>\n",
       "      <td>NaN</td>\n",
       "      <td>Description</td>\n",
       "    </tr>\n",
       "  </tbody>\n",
       "</table>\n",
       "</div>"
      ],
      "text/plain": [
       "             GSIN_code              URL  \\\n",
       "organization                              \n",
       "ab               Gsins  OriginSystemUrl   \n",
       "bc                GSIN              URL   \n",
       "federal           gsin              NaN   \n",
       "NaN                NaN              NaN   \n",
       "nu                 NaN              NaN   \n",
       "\n",
       "                                                  buyer_contact  \\\n",
       "organization                                                      \n",
       "ab            ContactFirstName, ContactLastName, ContactPhon...   \n",
       "bc                                        E_DETAIL_2, TELEPHONE   \n",
       "federal                                                 contact   \n",
       "NaN                                                         NaN   \n",
       "nu                          Contact Person, Phone Number, Email   \n",
       "\n",
       "                   buyer_name               closing_date  \\\n",
       "organization                                               \n",
       "ab                        NaN               CloseDateUtc   \n",
       "bc                 E_DETAIL_2  CLOSING_DATE,CLOSING_TIME   \n",
       "federal       end_user_entity               date_closing   \n",
       "NaN                       NaN                        NaN   \n",
       "nu                        NaN                ClosingDate   \n",
       "\n",
       "                   location_of_work province_territory_of_work  \\\n",
       "organization                                                     \n",
       "ab                 RegionOfDelivery               Jurisdiction   \n",
       "bc                  REGION_DELIVERY               JURISDICTION   \n",
       "federal             region_delivery            region_delivery   \n",
       "NaN                             NaN                        NaN   \n",
       "nu            FOB Point Or Location      FOB Point Or Location   \n",
       "\n",
       "                published_date                 tender_description        title  \n",
       "organization                                                                    \n",
       "ab                 PostDateUtc  LongDescription, ShortDescription        Title  \n",
       "bc                POSTING_DATE                         E_DETAIL_1      E_TITLE  \n",
       "federal       publication_date                        description        title  \n",
       "NaN                        NaN                                NaN          NaN  \n",
       "nu                  IssuedDate                                NaN  Description  "
      ]
     },
     "execution_count": 326,
     "metadata": {},
     "output_type": "execute_result"
    }
   ],
   "source": [
    "col_df"
   ]
  },
  {
   "cell_type": "code",
   "execution_count": 294,
   "metadata": {},
   "outputs": [],
   "source": [
    "sample_data_nu = pd.DataFrame(columns=col_df.columns)\n",
    "for col in col_df.columns:\n",
    "    if pd.isna(col_df[col][\"nu\"]):\n",
    "        continue\n",
    "    nu_col = col_df[col][\"nu\"].strip()\n",
    "    if \",\" in nu_col:\n",
    "        # we need to map more than 1 column, so skip for now\n",
    "        continue\n",
    "    if nu_col == nu_col:\n",
    "        sample_data_nu[col] = nu[nu_col].copy()        "
   ]
  },
  {
   "cell_type": "code",
   "execution_count": 323,
   "metadata": {},
   "outputs": [],
   "source": [
    "def get_nu_location(_location):\n",
    "    location_dict = {\"Nunavut\": \"NU\"}\n",
    "    parts = _location.split(\",\")\n",
    "    if len(parts) == 1:\n",
    "        return location_dict[parts[0]]\n",
    "    \n",
    "    return parts[-1].strip()"
   ]
  },
  {
   "cell_type": "code",
   "execution_count": 325,
   "metadata": {},
   "outputs": [],
   "source": [
    "sample_data_nu[\"province_territory_of_work\"] = sample_data_nu[\"province_territory_of_work\"].map(get_nu_location)"
   ]
  },
  {
   "cell_type": "code",
   "execution_count": 329,
   "metadata": {},
   "outputs": [],
   "source": [
    "abc1 = sample_data_nu.closing_date[0]\n",
    "abc2 = sample_data_nu.closing_date[2]"
   ]
  },
  {
   "cell_type": "code",
   "execution_count": 341,
   "metadata": {},
   "outputs": [],
   "source": [
    "sample_data_nu[\"closing_date\"] = sample_data_nu[\"closing_date\"].map(lambda x: x if \"EDT\" in x else x + \" 16:00 EDT\").map(lambda x: str(dp.parse(x, tzinfos=tzd)))"
   ]
  },
  {
   "cell_type": "markdown",
   "metadata": {},
   "source": [
    "## Save sample data"
   ]
  },
  {
   "cell_type": "code",
   "execution_count": 286,
   "metadata": {},
   "outputs": [],
   "source": [
    "sample_data.index = range(len(sample_data))"
   ]
  },
  {
   "cell_type": "code",
   "execution_count": 287,
   "metadata": {},
   "outputs": [],
   "source": [
    "sample_data.to_json(\"../sample_data/sample_data.json\", orient=\"records\")"
   ]
  },
  {
   "cell_type": "code",
   "execution_count": 288,
   "metadata": {},
   "outputs": [],
   "source": [
    "sample_data.to_json(\"../../single-point-of-access-prototype/data/sample_data.json\", orient=\"records\")"
   ]
  },
  {
   "cell_type": "code",
   "execution_count": null,
   "metadata": {},
   "outputs": [],
   "source": []
  }
 ],
 "metadata": {
  "kernelspec": {
   "display_name": "Python 3",
   "language": "python",
   "name": "python3"
  },
  "language_info": {
   "codemirror_mode": {
    "name": "ipython",
    "version": 3
   },
   "file_extension": ".py",
   "mimetype": "text/x-python",
   "name": "python",
   "nbconvert_exporter": "python",
   "pygments_lexer": "ipython3",
   "version": "3.6.4"
  }
 },
 "nbformat": 4,
 "nbformat_minor": 2
}
