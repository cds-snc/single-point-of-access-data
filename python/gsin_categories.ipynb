{
 "cells": [
  {
   "cell_type": "code",
   "execution_count": 152,
   "metadata": {},
   "outputs": [],
   "source": [
    "import pandas as pd\n",
    "import json"
   ]
  },
  {
   "cell_type": "markdown",
   "metadata": {},
   "source": [
    "All csv files used were generated from Andrew Hill's spreadsheets. His email is andrew.hill@tpsgc-pwgsc.gc.ca. In his construction spreadsheet there are 2 sheets that seem identical to me. I used the 1st one."
   ]
  },
  {
   "cell_type": "markdown",
   "metadata": {},
   "source": [
    "## Services"
   ]
  },
  {
   "cell_type": "code",
   "execution_count": 153,
   "metadata": {},
   "outputs": [],
   "source": [
    "services = pd.read_csv(\"../gsin/GSIN_Categories-Services.csv\", header=1)"
   ]
  },
  {
   "cell_type": "code",
   "execution_count": 154,
   "metadata": {},
   "outputs": [],
   "source": [
    "service_columns = [\"L1\", \"L2\", \"meaningless\", \"gsin\", \"description_en\"]"
   ]
  },
  {
   "cell_type": "code",
   "execution_count": 155,
   "metadata": {},
   "outputs": [],
   "source": [
    "services.columns = service_columns"
   ]
  },
  {
   "cell_type": "code",
   "execution_count": 156,
   "metadata": {},
   "outputs": [],
   "source": [
    "# fill forward missing values\n",
    "services = services.fillna(method='ffill')"
   ]
  },
  {
   "cell_type": "code",
   "execution_count": 157,
   "metadata": {},
   "outputs": [],
   "source": [
    "def get_L1_name(L1):\n",
    "    parts = L1.split(\".\")\n",
    "    if len(parts) == 1:\n",
    "        return parts[0]\n",
    "    return parts[1].strip()\n",
    "\n",
    "def get_L1_code(L1):\n",
    "    parts = L1.split(\".\")\n",
    "    if len(parts) == 1:\n",
    "        return parts[0]\n",
    "    return parts[0].strip()\n",
    "\n",
    "def get_L2_name(L2):\n",
    "    parts = L2.split(\" \")\n",
    "    if len(parts) == 1:\n",
    "        return parts[0]\n",
    "    return \" \".join(parts[1:]).strip()\n",
    "\n",
    "def get_L2_code(L2):\n",
    "    parts = L2.split(\" \")\n",
    "    if len(parts) == 1:\n",
    "        return parts[0]\n",
    "    return parts[0].strip()"
   ]
  },
  {
   "cell_type": "code",
   "execution_count": 158,
   "metadata": {},
   "outputs": [],
   "source": [
    "services[\"L1_name\"] = services[\"L1\"].map(get_L1_name)\n",
    "services[\"L1_code\"] = services[\"L1\"].map(get_L1_code)\n",
    "services[\"L2_name\"] = services[\"L2\"].map(get_L2_name)\n",
    "services[\"L2_code\"] = services[\"L2\"].map(get_L2_code)"
   ]
  },
  {
   "cell_type": "code",
   "execution_count": 159,
   "metadata": {},
   "outputs": [],
   "source": [
    "services[\"L3_code\"] = services[\"gsin\"]\n",
    "services[\"L3_name\"] = services[\"description_en\"]"
   ]
  },
  {
   "cell_type": "code",
   "execution_count": 160,
   "metadata": {},
   "outputs": [],
   "source": [
    "services[\"L0_name\"] = [\"Services\"]*len(services)"
   ]
  },
  {
   "cell_type": "markdown",
   "metadata": {},
   "source": [
    "## Goods"
   ]
  },
  {
   "cell_type": "code",
   "execution_count": 161,
   "metadata": {},
   "outputs": [],
   "source": [
    "goods = pd.read_csv(\"../gsin/GSIN_Categories-Goods.csv\", header=1)"
   ]
  },
  {
   "cell_type": "code",
   "execution_count": 162,
   "metadata": {},
   "outputs": [],
   "source": [
    "goods_cols = [\"L1\", \"L2\", \"gsin\", \"description_en\"]"
   ]
  },
  {
   "cell_type": "code",
   "execution_count": 163,
   "metadata": {},
   "outputs": [],
   "source": [
    "goods.columns = goods_cols"
   ]
  },
  {
   "cell_type": "code",
   "execution_count": 164,
   "metadata": {},
   "outputs": [],
   "source": [
    "goods = goods.fillna(method='ffill')"
   ]
  },
  {
   "cell_type": "code",
   "execution_count": 165,
   "metadata": {},
   "outputs": [],
   "source": [
    "goods[\"L1_code\"] = goods[\"L1\"].map(lambda x: \"N\" + x.split(\" \")[0])\n",
    "goods[\"L1_name\"] = goods[\"L1\"].map(lambda x: \" \".join(x.split(\" \")[1:]))"
   ]
  },
  {
   "cell_type": "code",
   "execution_count": 166,
   "metadata": {},
   "outputs": [],
   "source": [
    "goods[\"L2_code\"] = goods[\"L2\"].map(lambda x: \"N\" + x.split(\" \")[0])\n",
    "goods[\"L2_name\"] = goods[\"L2\"].map(lambda x: \" \".join(x.split(\" \")[1:]))"
   ]
  },
  {
   "cell_type": "code",
   "execution_count": 167,
   "metadata": {},
   "outputs": [],
   "source": [
    "goods[\"L3_code\"] = goods[\"gsin\"]\n",
    "goods[\"L3_name\"] = goods[\"description_en\"]"
   ]
  },
  {
   "cell_type": "code",
   "execution_count": 168,
   "metadata": {},
   "outputs": [],
   "source": [
    "goods[\"L0_name\"] = [\"Goods\"]*len(goods)"
   ]
  },
  {
   "cell_type": "markdown",
   "metadata": {},
   "source": [
    "## Services related to goods"
   ]
  },
  {
   "cell_type": "code",
   "execution_count": 169,
   "metadata": {},
   "outputs": [],
   "source": [
    "srg = pd.read_csv(\"../gsin/GSIN_Categories-Services_Related_to_Goods.csv\", header=1)"
   ]
  },
  {
   "cell_type": "code",
   "execution_count": 170,
   "metadata": {},
   "outputs": [],
   "source": [
    "srg.columns = goods_cols"
   ]
  },
  {
   "cell_type": "code",
   "execution_count": 171,
   "metadata": {},
   "outputs": [],
   "source": [
    "srg = srg.fillna(method='ffill')"
   ]
  },
  {
   "cell_type": "code",
   "execution_count": 172,
   "metadata": {},
   "outputs": [],
   "source": [
    "# srg.drop(index=srg.query(\"gsin == '-'\").index, inplace=True)"
   ]
  },
  {
   "cell_type": "code",
   "execution_count": 173,
   "metadata": {},
   "outputs": [],
   "source": [
    "srg[\"L1_name\"] = srg[\"L1\"].map(get_L1_name)"
   ]
  },
  {
   "cell_type": "code",
   "execution_count": 174,
   "metadata": {},
   "outputs": [],
   "source": [
    "srg[\"L1_code\"] = srg[\"L1\"].map(get_L1_code)"
   ]
  },
  {
   "cell_type": "code",
   "execution_count": 175,
   "metadata": {},
   "outputs": [],
   "source": [
    "srg[\"L2_name\"] = srg[\"L2\"].map(get_L2_name)\n",
    "srg[\"L2_code\"] = srg[\"L2\"].map(get_L2_code)"
   ]
  },
  {
   "cell_type": "code",
   "execution_count": 176,
   "metadata": {},
   "outputs": [],
   "source": [
    "srg[\"L0_name\"] = [\"Services\"]*len(srg)"
   ]
  },
  {
   "cell_type": "code",
   "execution_count": 177,
   "metadata": {},
   "outputs": [],
   "source": [
    "srg[\"L3_code\"] = srg[\"gsin\"]\n",
    "srg[\"L3_name\"] = srg[\"description_en\"]"
   ]
  },
  {
   "cell_type": "code",
   "execution_count": 178,
   "metadata": {},
   "outputs": [],
   "source": [
    "# there are 2 L1 categegories and only 2 L2 categories, so the L2 categories appear to be the same thing\n",
    "# however there are ~900 L3/full gsin categories. probably worth going to L3 eventually"
   ]
  },
  {
   "cell_type": "markdown",
   "metadata": {},
   "source": [
    "## Construction"
   ]
  },
  {
   "cell_type": "code",
   "execution_count": 191,
   "metadata": {},
   "outputs": [],
   "source": [
    "construction = pd.read_csv(\"../gsin/Construction_Codes_CPC.csv\", header=1)"
   ]
  },
  {
   "cell_type": "code",
   "execution_count": 192,
   "metadata": {},
   "outputs": [],
   "source": [
    "construction_columns = [\"L1\", \"L2\", \"L3_code\", \"L3_name\", \"L3_name_fr\", \"a\", \"b\", \"c\", \"d\"]"
   ]
  },
  {
   "cell_type": "code",
   "execution_count": 193,
   "metadata": {},
   "outputs": [],
   "source": [
    "construction.columns = construction_columns"
   ]
  },
  {
   "cell_type": "code",
   "execution_count": 194,
   "metadata": {},
   "outputs": [],
   "source": [
    "del construction[\"a\"]\n",
    "del construction[\"b\"]\n",
    "del construction[\"c\"]\n",
    "del construction[\"d\"]"
   ]
  },
  {
   "cell_type": "code",
   "execution_count": 195,
   "metadata": {},
   "outputs": [],
   "source": [
    "construction = construction.fillna(method='ffill')"
   ]
  },
  {
   "cell_type": "code",
   "execution_count": 196,
   "metadata": {},
   "outputs": [],
   "source": [
    "construction.dropna(how=\"all\", inplace=True)\n",
    "construction.drop(index=[159, 160], inplace=True) # the last 2 rows don't contain data"
   ]
  },
  {
   "cell_type": "code",
   "execution_count": 197,
   "metadata": {
    "scrolled": true
   },
   "outputs": [],
   "source": [
    "construction[\"L1_code\"] = construction[\"L1\"].map(lambda x: x.split(\" \")[0])\n",
    "construction[\"L1_name\"] = construction[\"L1\"].map(lambda x: \" \".join(x.split(\" \")[1:]))"
   ]
  },
  {
   "cell_type": "code",
   "execution_count": 198,
   "metadata": {},
   "outputs": [],
   "source": [
    "construction[\"L2_code\"] = construction[\"L2\"].map(lambda x: x.split(\" \")[0])\n",
    "construction[\"L2_name\"] = construction[\"L2\"].map(lambda x: \" \".join(x.split(\" \")[1:]))"
   ]
  },
  {
   "cell_type": "code",
   "execution_count": 199,
   "metadata": {},
   "outputs": [],
   "source": [
    "construction[\"L0_name\"] = [\"Construction\"]*len(construction)"
   ]
  },
  {
   "cell_type": "markdown",
   "metadata": {},
   "source": [
    "## Save dicts"
   ]
  },
  {
   "cell_type": "code",
   "execution_count": 200,
   "metadata": {},
   "outputs": [],
   "source": [
    "cols_of_interest = [\"L0_name\", \"L1_name\", \"L1_code\", \"L2_name\", \"L2_code\", \"L3_name\", \"L3_code\"]"
   ]
  },
  {
   "cell_type": "code",
   "execution_count": 201,
   "metadata": {},
   "outputs": [],
   "source": [
    "df = pd.concat([services[cols_of_interest], goods[cols_of_interest], srg[cols_of_interest], construction[cols_of_interest]])"
   ]
  },
  {
   "cell_type": "code",
   "execution_count": 202,
   "metadata": {},
   "outputs": [],
   "source": [
    "df[\"L3_name\"] = df[\"L3_name\"].map(lambda x: x.replace(\"\\n\", \"\"))"
   ]
  },
  {
   "cell_type": "code",
   "execution_count": 203,
   "metadata": {},
   "outputs": [],
   "source": [
    "df.index = range(len(df))"
   ]
  },
  {
   "cell_type": "code",
   "execution_count": 204,
   "metadata": {},
   "outputs": [],
   "source": [
    "L1_dict = {}\n",
    "L1_dict_reverse = {}\n",
    "L2_dict = {}\n",
    "L2_dict_reverse = {}\n",
    "L3_dict = {}\n",
    "L3_dict_reverse = {}\n",
    "\n",
    "for i in df.index:\n",
    "    L1 = df[\"L1_code\"][i]\n",
    "    L2 = df[\"L2_code\"][i]\n",
    "    L3 = df[\"L3_code\"][i]\n",
    "    L1_fullname = df[\"L0_name\"][i] + \" > \" + df[\"L1_name\"][i]\n",
    "    L2_fullname = df[\"L0_name\"][i] + \" > \" + df[\"L1_name\"][i] + \" > \" + df[\"L2_name\"][i]\n",
    "    L3_fullname = df[\"L0_name\"][i] + \" > \" + df[\"L1_name\"][i] + \" > \" + df[\"L2_name\"][i] + \" > \" + df[\"L3_name\"][i]\n",
    "    \n",
    "    L1_dict[L1_fullname] = L1\n",
    "    L1_dict_reverse[L1] = L1_fullname\n",
    "    \n",
    "    L2_dict[L2_fullname] = L2\n",
    "    L2_dict_reverse[L2] = L2_fullname\n",
    "    \n",
    "    L3_dict[L3_fullname] = L3\n",
    "    L3_dict_reverse[L3] = L3_fullname"
   ]
  },
  {
   "cell_type": "code",
   "execution_count": 205,
   "metadata": {},
   "outputs": [],
   "source": [
    "full_dict_reverse = {**L1_dict_reverse, **L2_dict_reverse, **L3_dict_reverse}"
   ]
  },
  {
   "cell_type": "code",
   "execution_count": 206,
   "metadata": {},
   "outputs": [],
   "source": [
    "json.dump(L1_dict, open(\"../gsin/L1_dict.json\", \"w\"))\n",
    "json.dump(L1_dict, open(\"../../single-point-of-access-prototype/data/L1_dict.json\", \"w\"))"
   ]
  },
  {
   "cell_type": "code",
   "execution_count": 207,
   "metadata": {},
   "outputs": [],
   "source": [
    "json.dump(L1_dict_reverse, open(\"../gsin/L1_dict_reverse.json\", \"w\"))\n",
    "json.dump(L1_dict_reverse, open(\"../../single-point-of-access-prototype/data/L1_dict_reverse.json\", \"w\"))"
   ]
  },
  {
   "cell_type": "code",
   "execution_count": 208,
   "metadata": {},
   "outputs": [],
   "source": [
    "json.dump(L2_dict, open(\"../gsin/L2_dict.json\", \"w\"))\n",
    "json.dump(L2_dict, open(\"../../single-point-of-access-prototype/data/L2_dict.json\", \"w\"))"
   ]
  },
  {
   "cell_type": "code",
   "execution_count": 211,
   "metadata": {},
   "outputs": [],
   "source": [
    "json.dump(L2_dict_reverse, open(\"../gsin/L2_dict_reverse.json\", \"w\"))\n",
    "json.dump(L2_dict_reverse, open(\"../../single-point-of-access-prototype/data/L2_dict_reverse.json\", \"w\"))"
   ]
  },
  {
   "cell_type": "code",
   "execution_count": 212,
   "metadata": {},
   "outputs": [],
   "source": [
    "json.dump(full_dict_reverse, open(\"../gsin/full_dict_reverse.json\", \"w\"))\n",
    "json.dump(full_dict_reverse, open(\"../../single-point-of-access-prototype/data/full_dict_reverse.json\", \"w\"))"
   ]
  },
  {
   "cell_type": "code",
   "execution_count": null,
   "metadata": {},
   "outputs": [],
   "source": []
  }
 ],
 "metadata": {
  "kernelspec": {
   "display_name": "Python 3",
   "language": "python",
   "name": "python3"
  },
  "language_info": {
   "codemirror_mode": {
    "name": "ipython",
    "version": 3
   },
   "file_extension": ".py",
   "mimetype": "text/x-python",
   "name": "python",
   "nbconvert_exporter": "python",
   "pygments_lexer": "ipython3",
   "version": "3.6.4"
  }
 },
 "nbformat": 4,
 "nbformat_minor": 2
}
