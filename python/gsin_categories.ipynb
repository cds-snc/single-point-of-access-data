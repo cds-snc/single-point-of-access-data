{
 "cells": [
  {
   "cell_type": "code",
   "execution_count": 149,
   "metadata": {},
   "outputs": [],
   "source": [
    "import pandas as pd\n",
    "import json"
   ]
  },
  {
   "cell_type": "code",
   "execution_count": 86,
   "metadata": {},
   "outputs": [],
   "source": [
    "services = pd.read_csv(\"../gsin/GSIN_Categories-Services.csv\", header=1)\n",
    "goods = pd.read_csv(\"../gsin/GSIN_Categories-Goods.csv\", header=1)\n",
    "srg = pd.read_csv(\"../gsin/GSIN_Categories-Services_Related_to_Goods.csv\", header=1)"
   ]
  },
  {
   "cell_type": "markdown",
   "metadata": {},
   "source": [
    "## Services"
   ]
  },
  {
   "cell_type": "code",
   "execution_count": 89,
   "metadata": {},
   "outputs": [],
   "source": [
    "service_columns = [\"L1\", \"L2\", \"meaningless\", \"gsin\", \"description_en\"]"
   ]
  },
  {
   "cell_type": "code",
   "execution_count": 90,
   "metadata": {},
   "outputs": [],
   "source": [
    "services.columns = service_columns"
   ]
  },
  {
   "cell_type": "code",
   "execution_count": 91,
   "metadata": {},
   "outputs": [],
   "source": [
    "# fill forward missing values\n",
    "services = services.fillna(method='ffill')"
   ]
  },
  {
   "cell_type": "code",
   "execution_count": 106,
   "metadata": {},
   "outputs": [],
   "source": [
    "def get_L1_name(L1):\n",
    "    parts = L1.split(\".\")\n",
    "    if len(parts) == 1:\n",
    "        return parts[0]\n",
    "    return parts[1].strip()\n",
    "\n",
    "def get_L1_code(L1):\n",
    "    parts = L1.split(\".\")\n",
    "    if len(parts) == 1:\n",
    "        return parts[0]\n",
    "    return parts[0].strip()\n",
    "\n",
    "def get_L2_name(L2):\n",
    "    parts = L2.split(\" \")\n",
    "    if len(parts) == 1:\n",
    "        return parts[0]\n",
    "    return \" \".join(parts[1:]).strip()\n",
    "\n",
    "def get_L2_code(L2):\n",
    "    parts = L2.split(\" \")\n",
    "    if len(parts) == 1:\n",
    "        return parts[0]\n",
    "    return parts[0].strip()"
   ]
  },
  {
   "cell_type": "code",
   "execution_count": 95,
   "metadata": {},
   "outputs": [],
   "source": [
    "services[\"L1_name\"] = services[\"L1\"].map(get_L1_name)"
   ]
  },
  {
   "cell_type": "code",
   "execution_count": 97,
   "metadata": {},
   "outputs": [],
   "source": [
    "services[\"L1_code\"] = services[\"L1\"].map(get_L1_code)"
   ]
  },
  {
   "cell_type": "code",
   "execution_count": 104,
   "metadata": {},
   "outputs": [],
   "source": [
    "services[\"L2_name\"] = services[\"L2\"].map(get_L2_name)"
   ]
  },
  {
   "cell_type": "code",
   "execution_count": 107,
   "metadata": {},
   "outputs": [],
   "source": [
    "services[\"L2_code\"] = services[\"L2\"].map(get_L2_code)"
   ]
  },
  {
   "cell_type": "markdown",
   "metadata": {},
   "source": [
    "## Goods"
   ]
  },
  {
   "cell_type": "code",
   "execution_count": 136,
   "metadata": {},
   "outputs": [],
   "source": [
    "goods_cols = [\"L1\", \"L2\", \"gsin\", \"description_en\"]"
   ]
  },
  {
   "cell_type": "code",
   "execution_count": 137,
   "metadata": {},
   "outputs": [],
   "source": [
    "goods.columns = goods_cols"
   ]
  },
  {
   "cell_type": "code",
   "execution_count": 138,
   "metadata": {},
   "outputs": [],
   "source": [
    "goods = goods.fillna(method='ffill')"
   ]
  },
  {
   "cell_type": "code",
   "execution_count": 139,
   "metadata": {},
   "outputs": [],
   "source": [
    "goods[\"L1_code\"] = goods[\"L1\"].map(lambda x: \"N\" + x.split(\" \")[0])\n",
    "goods[\"L1_name\"] = goods[\"L1\"].map(lambda x: \" \".join(x.split(\" \")[1:]))"
   ]
  },
  {
   "cell_type": "code",
   "execution_count": 140,
   "metadata": {},
   "outputs": [],
   "source": [
    "goods[\"L2_code\"] = goods[\"L2\"].map(lambda x: \"N\" + x.split(\" \")[0])\n",
    "goods[\"L2_name\"] = goods[\"L2\"].map(lambda x: \" \".join(x.split(\" \")[1:]))"
   ]
  },
  {
   "cell_type": "markdown",
   "metadata": {},
   "source": [
    "## Services related to goods"
   ]
  },
  {
   "cell_type": "code",
   "execution_count": 113,
   "metadata": {},
   "outputs": [],
   "source": [
    "srg.columns = goods_cols"
   ]
  },
  {
   "cell_type": "code",
   "execution_count": 116,
   "metadata": {},
   "outputs": [],
   "source": [
    "srg = srg.fillna(method='ffill')"
   ]
  },
  {
   "cell_type": "code",
   "execution_count": 118,
   "metadata": {},
   "outputs": [],
   "source": [
    "srg[\"L1_name\"] = srg[\"L1\"].map(get_L1_name)"
   ]
  },
  {
   "cell_type": "code",
   "execution_count": 121,
   "metadata": {},
   "outputs": [],
   "source": [
    "srg[\"L1_code\"] = srg[\"L1\"].map(get_L1_code)"
   ]
  },
  {
   "cell_type": "code",
   "execution_count": 130,
   "metadata": {},
   "outputs": [],
   "source": [
    "srg[\"L2_name\"] = srg[\"L2\"].map(get_L2_name)\n",
    "srg[\"L2_code\"] = srg[\"L2\"].map(get_L2_code)"
   ]
  },
  {
   "cell_type": "code",
   "execution_count": 131,
   "metadata": {},
   "outputs": [],
   "source": [
    "# there are 2 L1 categegories and only 2 L2 categories, so the L2 categories appear to be the same thing\n",
    "# however there are ~900 L3/full gsin categories. probably worth going to L3 eventually"
   ]
  },
  {
   "cell_type": "markdown",
   "metadata": {},
   "source": [
    "## Save dicts"
   ]
  },
  {
   "cell_type": "code",
   "execution_count": 132,
   "metadata": {},
   "outputs": [],
   "source": [
    "cols_of_interest = [\"L1_name\", \"L1_code\", \"L2_name\", \"L2_code\"]"
   ]
  },
  {
   "cell_type": "code",
   "execution_count": 142,
   "metadata": {},
   "outputs": [],
   "source": [
    "df = pd.concat([services[cols_of_interest], goods[cols_of_interest], srg[cols_of_interest]])"
   ]
  },
  {
   "cell_type": "code",
   "execution_count": 144,
   "metadata": {},
   "outputs": [],
   "source": [
    "df.index = range(len(df))"
   ]
  },
  {
   "cell_type": "code",
   "execution_count": 146,
   "metadata": {},
   "outputs": [],
   "source": [
    "L1_dict = {}\n",
    "L2_dict = {}\n",
    "\n",
    "for i in df.index:\n",
    "    L1 = df[\"L1_code\"][i]\n",
    "    L2 = df[\"L2_code\"][i]\n",
    "    L1_dict[L1] = df[\"L1_name\"][i]\n",
    "    L2_dict[L2] = df[\"L1_name\"][i] + \" > \" + df[\"L2_name\"][i]    "
   ]
  },
  {
   "cell_type": "code",
   "execution_count": 153,
   "metadata": {},
   "outputs": [],
   "source": [
    "json.dump(L1_dict, open(\"../gsin/L1_dict.json\", \"w\"))\n",
    "json.dump(L1_dict, open(\"../../single-point-of-access-prototype/data/L1_dict.json\", \"w\"))"
   ]
  },
  {
   "cell_type": "code",
   "execution_count": 154,
   "metadata": {},
   "outputs": [],
   "source": [
    "json.dump(L2_dict, open(\"../gsin/L2_dict.json\", \"w\"))\n",
    "json.dump(L2_dict, open(\"../../single-point-of-access-prototype/data/L2_dict.json\", \"w\"))"
   ]
  },
  {
   "cell_type": "code",
   "execution_count": null,
   "metadata": {},
   "outputs": [],
   "source": []
  }
 ],
 "metadata": {
  "kernelspec": {
   "display_name": "Python 3",
   "language": "python",
   "name": "python3"
  },
  "language_info": {
   "codemirror_mode": {
    "name": "ipython",
    "version": 3
   },
   "file_extension": ".py",
   "mimetype": "text/x-python",
   "name": "python",
   "nbconvert_exporter": "python",
   "pygments_lexer": "ipython3",
   "version": "3.6.4"
  }
 },
 "nbformat": 4,
 "nbformat_minor": 2
}
