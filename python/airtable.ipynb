{
 "cells": [
  {
   "cell_type": "code",
   "execution_count": 11,
   "metadata": {},
   "outputs": [],
   "source": [
    "import requests\n",
    "import pandas as pd\n",
    "import sys\n",
    "from dotenv import load_dotenv\n",
    "load_dotenv()\n",
    "import os\n",
    "\n",
    "api_key = os.getenv(\"AIRTABLE_API_KEY\")\n",
    "base_id = os.getenv(\"AIRTABLE_BASE\")\n",
    "table_name = \"column_map\"\n",
    "\n",
    "def get_url(offset=None):\n",
    "    url = \"https://api.airtable.com/v0/\" + base_id + \"/\" + table_name + \"?maxRecords=1000\"\n",
    "    if offset:\n",
    "        url += \"&offset=\" + offset\n",
    "    url += \"&api_key=\" + api_key\n",
    "    return url\n",
    "\n",
    "def json2df(response):\n",
    "    field_list = []\n",
    "    for record in response.json()['records']:\n",
    "        obj = record['fields']\n",
    "        obj['id'] = record['id']\n",
    "        field_list.append(obj)\n",
    "   \n",
    "    return pd.DataFrame.from_dict(field_list)\n",
    "\n",
    "def call_api_get_df(offset):\n",
    "    response = requests.get(get_url(offset=offset))\n",
    "    df = json2df(response)\n",
    "    return response.json(), df\n",
    "\n",
    "def get_df():\n",
    "    list_of_dfs = []\n",
    "    offset = None\n",
    "    response_json = [\"offset\"]\n",
    "    while 'offset' in response_json:\n",
    "        response_json, temp = call_api_get_df(offset)\n",
    "        offset = None if \"offset\" not in response_json else response_json[\"offset\"]\n",
    "        list_of_dfs.append(temp)\n",
    "    if sys.version_info[0] == 2:\n",
    "        df = pd.concat(list_of_dfs)\n",
    "    else:\n",
    "        df = pd.concat(list_of_dfs, sort=True)\n",
    "    df.index = range(len(df))\n",
    "    return df\n",
    "\n",
    "# end of .py file\n",
    "import common\n",
    "common.convert_to_py(\"airtable\")"
   ]
  },
  {
   "cell_type": "code",
   "execution_count": null,
   "metadata": {},
   "outputs": [],
   "source": []
  }
 ],
 "metadata": {
  "kernelspec": {
   "display_name": "Python 3",
   "language": "python",
   "name": "python3"
  },
  "language_info": {
   "codemirror_mode": {
    "name": "ipython",
    "version": 3
   },
   "file_extension": ".py",
   "mimetype": "text/x-python",
   "name": "python",
   "nbconvert_exporter": "python",
   "pygments_lexer": "ipython3",
   "version": "3.6.4"
  }
 },
 "nbformat": 4,
 "nbformat_minor": 2
}
