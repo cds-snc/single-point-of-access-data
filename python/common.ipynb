{
 "cells": [
  {
   "cell_type": "code",
   "execution_count": 3,
   "metadata": {},
   "outputs": [],
   "source": [
    "def exec_command(command_text):\n",
    "    import subprocess\n",
    "    p = subprocess.call(command_text, shell=True)\n",
    "    if p == 1: raise Exception('failed command')\n",
    "\n",
    "def convert_to_py(fname):\n",
    "    \"\"\"This function converts an ipython notebook to a .py file,\n",
    "    removes the convert command, and copies the .py to the Anaconda\n",
    "    directory where it can be imported by other notebooks.\n",
    "    Don't forget to add '# end of .py file'.\"\"\"\n",
    "    exec_command(\"ipython nbconvert --to=python \" + fname + \".ipynb\")\n",
    "    f = open(fname + '.py', 'r')\n",
    "    all_lines = f.readlines()\n",
    "    f.close()\n",
    "    end_line_num = all_lines.index('# end of .py file\\n')\n",
    "    f = open(fname + '.py', 'w')\n",
    "    f.writelines(all_lines[:end_line_num])\n",
    "    f.close()\n",
    "    \n",
    "# end of .py file\n",
    "convert_to_py(\"common\")"
   ]
  },
  {
   "cell_type": "code",
   "execution_count": null,
   "metadata": {},
   "outputs": [],
   "source": []
  }
 ],
 "metadata": {
  "kernelspec": {
   "display_name": "Python 3",
   "language": "python",
   "name": "python3"
  },
  "language_info": {
   "codemirror_mode": {
    "name": "ipython",
    "version": 3
   },
   "file_extension": ".py",
   "mimetype": "text/x-python",
   "name": "python",
   "nbconvert_exporter": "python",
   "pygments_lexer": "ipython3",
   "version": "3.6.4"
  }
 },
 "nbformat": 4,
 "nbformat_minor": 2
}
